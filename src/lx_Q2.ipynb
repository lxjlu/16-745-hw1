{
 "cells": [
  {
   "cell_type": "code",
   "execution_count": 1,
   "id": "efd189e8-3cdf-4ff0-b67e-17d8eee929b4",
   "metadata": {},
   "outputs": [
    {
     "name": "stderr",
     "output_type": "stream",
     "text": [
      "\u001b[32m\u001b[1m Activating\u001b[22m\u001b[39m environment at `C:\\Users\\Administrator\\Documents\\GitHub\\16-745-hw1\\Project.toml`\n"
     ]
    }
   ],
   "source": [
    "import Pkg; Pkg.activate(joinpath(@__DIR__,\"..\")); Pkg.instantiate();"
   ]
  },
  {
   "cell_type": "code",
   "execution_count": 2,
   "id": "bb2dd344-e781-46fb-a253-addf525fabc2",
   "metadata": {},
   "outputs": [
    {
     "data": {
      "text/html": [
       "<script>\n",
       "// Immediately-invoked-function-expression to avoid global variables.\n",
       "(function() {\n",
       "    var warning_div = document.getElementById(\"webio-warning-7490693665946314612\");\n",
       "    var hide = function () {\n",
       "        var script = document.getElementById(\"webio-setup-8905680816802339429\");\n",
       "        var parent = script && script.parentElement;\n",
       "        var grandparent = parent && parent.parentElement;\n",
       "        if (grandparent) {\n",
       "            grandparent.style.display = \"none\";\n",
       "        }\n",
       "        warning_div.style.display = \"none\";\n",
       "    };\n",
       "    if (typeof Jupyter !== \"undefined\") {\n",
       "        console.log(\"WebIO detected Jupyter notebook environment.\");\n",
       "        // Jupyter notebook.\n",
       "        var extensions = (\n",
       "            Jupyter\n",
       "            && Jupyter.notebook.config.data\n",
       "            && Jupyter.notebook.config.data.load_extensions\n",
       "        );\n",
       "        if (extensions && extensions[\"webio-jupyter-notebook\"]) {\n",
       "            // Extension already loaded.\n",
       "            console.log(\"Jupyter WebIO nbextension detected; not loading ad-hoc.\");\n",
       "            hide();\n",
       "            return;\n",
       "        }\n",
       "    } else if (window.location.pathname.includes(\"/lab\")) {\n",
       "        // Guessing JupyterLa\n",
       "        console.log(\"Jupyter Lab detected; make sure the @webio/jupyter-lab-provider labextension is installed.\");\n",
       "        hide();\n",
       "        return;\n",
       "    }\n",
       "})();\n",
       "\n",
       "</script>\n",
       "<p\n",
       "    id=\"webio-warning-7490693665946314612\"\n",
       "    class=\"output_text output_stderr\"\n",
       "    style=\"padding: 1em; font-weight: bold;\"\n",
       ">\n",
       "    Unable to load WebIO. Please make sure WebIO works for your Jupyter client.\n",
       "    For troubleshooting, please see <a href=\"https://juliagizmos.github.io/WebIO.jl/latest/providers/ijulia/\">\n",
       "    the WebIO/IJulia documentation</a>.\n",
       "    <!-- TODO: link to installation docs. -->\n",
       "</p>\n"
      ],
      "text/plain": [
       "HTML{String}(\"<script>\\n// Immediately-invoked-function-expression to avoid global variables.\\n(function() {\\n    var warning_div = document.getElementById(\\\"webio-warning-7490693665946314612\\\");\\n    var hide = function () {\\n        var script = document.getElementById(\\\"webio-setup-8905680816802339429\\\");\\n        var parent = script && script.parentElement;\\n        var grandparent = parent && parent.parentElement;\\n        if (grandparent) {\\n            grandparent.style.display = \\\"none\\\";\\n        }\\n        warning_div.style.display = \\\"none\\\";\\n    };\\n    if (typeof Jupyter !== \\\"undefined\\\") {\\n        console.log(\\\"WebIO detected Jupyter notebook environment.\\\");\\n        // Jupyter notebook.\\n        var extensions = (\\n            Jupyter\\n            && Jupyter.notebook.config.data\\n            && Jupyter.notebook.config.data.load_extensions\\n        );\\n        if (extensions && extensions[\\\"webio-jupyter-notebook\\\"]) {\\n            // Extension already loaded.\\n            console.log(\\\"Jupyter WebIO nbextension detected; not loading ad-hoc.\\\");\\n            hide();\\n            return;\\n        }\\n    } else if (window.location.pathname.includes(\\\"/lab\\\")) {\\n        // Guessing JupyterLa\\n        console.log(\\\"Jupyter Lab detected; make sure the @webio/jupyter-lab-provider labextension is installed.\\\");\\n        hide();\\n        return;\\n    }\\n})();\\n\\n</script>\\n<p\\n    id=\\\"webio-warning-7490693665946314612\\\"\\n    class=\\\"output_text output_stderr\\\"\\n    style=\\\"padding: 1em; font-weight: bold;\\\"\\n>\\n    Unable to load WebIO. Please make sure WebIO works for your Jupyter client.\\n    For troubleshooting, please see <a href=\\\"https://juliagizmos.github.io/WebIO.jl/latest/providers/ijulia/\\\">\\n    the WebIO/IJulia documentation</a>.\\n    <!-- TODO: link to installation docs. -->\\n</p>\\n\")"
      ]
     },
     "metadata": {},
     "output_type": "display_data"
    }
   ],
   "source": [
    "include(\"quadruped.jl\"); "
   ]
  },
  {
   "cell_type": "code",
   "execution_count": 3,
   "id": "a315768f-9800-46b5-ac8b-e07b699c7506",
   "metadata": {},
   "outputs": [
    {
     "name": "stderr",
     "output_type": "stream",
     "text": [
      "┌ Info: MeshCat server started. You can open the visualizer by visiting the following URL in your browser:\n",
      "│ http://localhost:8700\n",
      "└ @ MeshCat C:\\Users\\Administrator\\.julia\\packages\\MeshCat\\X2AUA\\src\\visualizer.jl:73\n"
     ]
    },
    {
     "data": {
      "text/html": [
       "    <div style=\"height: 500px; width: 100%; overflow-x: auto; overflow-y: hidden; resize: both\">\n",
       "    <iframe src=\"http://localhost:8700\" style=\"width: 100%; height: 100%; border: none\"></iframe>\n",
       "    </div>\n"
      ],
      "text/plain": [
       "MeshCat.DisplayedVisualizer(MeshCat.CoreVisualizer(MeshCat.SceneTrees.SceneNode(nothing, nothing, Dict{String,Array{UInt8,1}}(), nothing, Dict{String,MeshCat.SceneTrees.SceneNode}(\"meshcat\" => MeshCat.SceneTrees.SceneNode(nothing, nothing, Dict{String,Array{UInt8,1}}(), nothing, Dict{String,MeshCat.SceneTrees.SceneNode}(\"world\" => MeshCat.SceneTrees.SceneNode(nothing, nothing, Dict{String,Array{UInt8,1}}(), nothing, Dict{String,MeshCat.SceneTrees.SceneNode}(\"dummy1\" => MeshCat.SceneTrees.SceneNode(nothing, UInt8[0x83, 0xa6, 0x6d, 0x61, 0x74, 0x72, 0x69, 0x78, 0xc7, 0x40  …  0x72, 0x6c, 0x64, 0x2f, 0x64, 0x75, 0x6d, 0x6d, 0x79, 0x31], Dict{String,Array{UInt8,1}}(), nothing, Dict{String,MeshCat.SceneTrees.SceneNode}(\"dummy2\" => MeshCat.SceneTrees.SceneNode(nothing, UInt8[0x83, 0xa6, 0x6d, 0x61, 0x74, 0x72, 0x69, 0x78, 0xc7, 0x40  …  0x6d, 0x79, 0x31, 0x2f, 0x64, 0x75, 0x6d, 0x6d, 0x79, 0x32], Dict{String,Array{UInt8,1}}(), nothing, Dict{String,MeshCat.SceneTrees.SceneNode}(\"RR_foot\" => MeshCat.SceneTrees.SceneNode(nothing, UInt8[0x83, 0xa6, 0x6d, 0x61, 0x74, 0x72, 0x69, 0x78, 0xc7, 0x40  …  0x79, 0x32, 0x2f, 0x52, 0x52, 0x5f, 0x66, 0x6f, 0x6f, 0x74], Dict{String,Array{UInt8,1}}(), nothing, Dict{String,MeshCat.SceneTrees.SceneNode}(\"after_RR_foot_fixed\" => MeshCat.SceneTrees.SceneNode(nothing, UInt8[0x83, 0xa6, 0x6d, 0x61, 0x74, 0x72, 0x69, 0x78, 0xc7, 0x40  …  0x66, 0x6f, 0x6f, 0x74, 0x5f, 0x66, 0x69, 0x78, 0x65, 0x64], Dict{String,Array{UInt8,1}}(), nothing, Dict{String,MeshCat.SceneTrees.SceneNode}(\"geometry_15\" => MeshCat.SceneTrees.SceneNode(UInt8[0x83, 0xa6, 0x6f, 0x62, 0x6a, 0x65, 0x63, 0x74, 0x84, 0xaa  …  0x65, 0x6f, 0x6d, 0x65, 0x74, 0x72, 0x79, 0x5f, 0x31, 0x35], UInt8[0x83, 0xa6, 0x6d, 0x61, 0x74, 0x72, 0x69, 0x78, 0xc7, 0x40  …  0x65, 0x6f, 0x6d, 0x65, 0x74, 0x72, 0x79, 0x5f, 0x31, 0x35], Dict{String,Array{UInt8,1}}(), nothing, Dict{String,MeshCat.SceneTrees.SceneNode}()))),\"RR_calf\" => MeshCat.SceneTrees.SceneNode(nothing, UInt8[0x83, 0xa6, 0x6d, 0x61, 0x74, 0x72, 0x69, 0x78, 0xc7, 0x40  …  0x6f, 0x74, 0x2f, 0x52, 0x52, 0x5f, 0x63, 0x61, 0x6c, 0x66], Dict{String,Array{UInt8,1}}(), nothing, Dict{String,MeshCat.SceneTrees.SceneNode}(\"after_RR_calf_joint\" => MeshCat.SceneTrees.SceneNode(nothing, UInt8[0x83, 0xa6, 0x6d, 0x61, 0x74, 0x72, 0x69, 0x78, 0xc7, 0x40  …  0x63, 0x61, 0x6c, 0x66, 0x5f, 0x6a, 0x6f, 0x69, 0x6e, 0x74], Dict{String,Array{UInt8,1}}(), nothing, Dict{String,MeshCat.SceneTrees.SceneNode}(\"geometry_14\" => MeshCat.SceneTrees.SceneNode(UInt8[0x83, 0xa6, 0x6f, 0x62, 0x6a, 0x65, 0x63, 0x74, 0x84, 0xaa  …  0x65, 0x6f, 0x6d, 0x65, 0x74, 0x72, 0x79, 0x5f, 0x31, 0x34], UInt8[0x83, 0xa6, 0x6d, 0x61, 0x74, 0x72, 0x69, 0x78, 0xc7, 0x40  …  0x65, 0x6f, 0x6d, 0x65, 0x74, 0x72, 0x79, 0x5f, 0x31, 0x34], Dict{String,Array{UInt8,1}}(), nothing, Dict{String,MeshCat.SceneTrees.SceneNode}()))),\"RR_thigh\" => MeshCat.SceneTrees.SceneNode(nothing, UInt8[0x83, 0xa6, 0x6d, 0x61, 0x74, 0x72, 0x69, 0x78, 0xc7, 0x40  …  0x66, 0x2f, 0x52, 0x52, 0x5f, 0x74, 0x68, 0x69, 0x67, 0x68], Dict{String,Array{UInt8,1}}(), nothing, Dict{String,MeshCat.SceneTrees.SceneNode}(\"after_RR_thigh_joint\" => MeshCat.SceneTrees.SceneNode(nothing, UInt8[0x83, 0xa6, 0x6d, 0x61, 0x74, 0x72, 0x69, 0x78, 0xc7, 0x40  …  0x68, 0x69, 0x67, 0x68, 0x5f, 0x6a, 0x6f, 0x69, 0x6e, 0x74], Dict{String,Array{UInt8,1}}(), nothing, Dict{String,MeshCat.SceneTrees.SceneNode}(\"geometry_13\" => MeshCat.SceneTrees.SceneNode(UInt8[0x83, 0xa6, 0x6f, 0x62, 0x6a, 0x65, 0x63, 0x74, 0x84, 0xaa  …  0x65, 0x6f, 0x6d, 0x65, 0x74, 0x72, 0x79, 0x5f, 0x31, 0x33], UInt8[0x83, 0xa6, 0x6d, 0x61, 0x74, 0x72, 0x69, 0x78, 0xc7, 0x40  …  0x65, 0x6f, 0x6d, 0x65, 0x74, 0x72, 0x79, 0x5f, 0x31, 0x33], Dict{String,Array{UInt8,1}}(), nothing, Dict{String,MeshCat.SceneTrees.SceneNode}()))),\"RR_hip\" => MeshCat.SceneTrees.SceneNode(nothing, UInt8[0x83, 0xa6, 0x6d, 0x61, 0x74, 0x72, 0x69, 0x78, 0xc7, 0x40  …  0x69, 0x67, 0x68, 0x2f, 0x52, 0x52, 0x5f, 0x68, 0x69, 0x70], Dict{String,Array{UInt8,1}}(), nothing, Dict{String,MeshCat.SceneTrees.SceneNode}(\"trunk\" => MeshCat.SceneTrees.SceneNode(nothing, UInt8[0x83, 0xa6, 0x6d, 0x61, 0x74, 0x72, 0x69, 0x78, 0xc7, 0x40  …  0x5f, 0x68, 0x69, 0x70, 0x2f, 0x74, 0x72, 0x75, 0x6e, 0x6b], Dict{String,Array{UInt8,1}}(), nothing, Dict{String,MeshCat.SceneTrees.SceneNode}(\"base\" => MeshCat.SceneTrees.SceneNode(nothing, UInt8[0x83, 0xa6, 0x6d, 0x61, 0x74, 0x72, 0x69, 0x78, 0xc7, 0x40  …  0x74, 0x72, 0x75, 0x6e, 0x6b, 0x2f, 0x62, 0x61, 0x73, 0x65], Dict{String,Array{UInt8,1}}(), nothing, Dict{String,MeshCat.SceneTrees.SceneNode}(\"base\" => MeshCat.SceneTrees.SceneNode(nothing, UInt8[0x83, 0xa6, 0x6d, 0x61, 0x74, 0x72, 0x69, 0x78, 0xc7, 0x40  …  0x2f, 0x62, 0x61, 0x73, 0x65, 0x2f, 0x62, 0x61, 0x73, 0x65], Dict{String,Array{UInt8,1}}(), nothing, Dict{String,MeshCat.SceneTrees.SceneNode}(\"geometry_1\" => MeshCat.SceneTrees.SceneNode(UInt8[0x83, 0xa6, 0x6f, 0x62, 0x6a, 0x65, 0x63, 0x74, 0x84, 0xaa  …  0x67, 0x65, 0x6f, 0x6d, 0x65, 0x74, 0x72, 0x79, 0x5f, 0x31], UInt8[0x83, 0xa6, 0x6d, 0x61, 0x74, 0x72, 0x69, 0x78, 0xc7, 0x40  …  0x67, 0x65, 0x6f, 0x6d, 0x65, 0x74, 0x72, 0x79, 0x5f, 0x31], Dict{String,Array{UInt8,1}}(), nothing, Dict{String,MeshCat.SceneTrees.SceneNode}()))))),\"after_floating_base\" => MeshCat.SceneTrees.SceneNode(nothing, UInt8[0x83, 0xa6, 0x6d, 0x61, 0x74, 0x72, 0x69, 0x78, 0xc7, 0x40  …  0x61, 0x74, 0x69, 0x6e, 0x67, 0x5f, 0x62, 0x61, 0x73, 0x65], Dict{String,Array{UInt8,1}}(), nothing, Dict{String,MeshCat.SceneTrees.SceneNode}(\"geometry_2\" => MeshCat.SceneTrees.SceneNode(UInt8[0x83, 0xa6, 0x6f, 0x62, 0x6a, 0x65, 0x63, 0x74, 0x84, 0xaa  …  0x67, 0x65, 0x6f, 0x6d, 0x65, 0x74, 0x72, 0x79, 0x5f, 0x32], UInt8[0x83, 0xa6, 0x6d, 0x61, 0x74, 0x72, 0x69, 0x78, 0xc7, 0x40  …  0x67, 0x65, 0x6f, 0x6d, 0x65, 0x74, 0x72, 0x79, 0x5f, 0x32], Dict{String,Array{UInt8,1}}(), nothing, Dict{String,MeshCat.SceneTrees.SceneNode}()))),\"RL_hip\" => MeshCat.SceneTrees.SceneNode(nothing, UInt8[0x83, 0xa6, 0x6d, 0x61, 0x74, 0x72, 0x69, 0x78, 0xc7, 0x40  …  0x75, 0x6e, 0x6b, 0x2f, 0x52, 0x4c, 0x5f, 0x68, 0x69, 0x70], Dict{String,Array{UInt8,1}}(), nothing, Dict{String,MeshCat.SceneTrees.SceneNode}(\"RL_thigh\" => MeshCat.SceneTrees.SceneNode(nothing, UInt8[0x83, 0xa6, 0x6d, 0x61, 0x74, 0x72, 0x69, 0x78, 0xc7, 0x40  …  0x70, 0x2f, 0x52, 0x4c, 0x5f, 0x74, 0x68, 0x69, 0x67, 0x68], Dict{String,Array{UInt8,1}}(), nothing, Dict{String,MeshCat.SceneTrees.SceneNode}(\"after_RL_thigh_joint\" => MeshCat.SceneTrees.SceneNode(nothing, UInt8[0x83, 0xa6, 0x6d, 0x61, 0x74, 0x72, 0x69, 0x78, 0xc7, 0x40  …  0x68, 0x69, 0x67, 0x68, 0x5f, 0x6a, 0x6f, 0x69, 0x6e, 0x74], Dict{String,Array{UInt8,1}}(), nothing, Dict{String,MeshCat.SceneTrees.SceneNode}(\"geometry_17\" => MeshCat.SceneTrees.SceneNode(UInt8[0x83, 0xa6, 0x6f, 0x62, 0x6a, 0x65, 0x63, 0x74, 0x84, 0xaa  …  0x65, 0x6f, 0x6d, 0x65, 0x74, 0x72, 0x79, 0x5f, 0x31, 0x37], UInt8[0x83, 0xa6, 0x6d, 0x61, 0x74, 0x72, 0x69, 0x78, 0xc7, 0x40  …  0x65, 0x6f, 0x6d, 0x65, 0x74, 0x72, 0x79, 0x5f, 0x31, 0x37], Dict{String,Array{UInt8,1}}(), nothing, Dict{String,MeshCat.SceneTrees.SceneNode}()))),\"RL_calf\" => MeshCat.SceneTrees.SceneNode(nothing, UInt8[0x83, 0xa6, 0x6d, 0x61, 0x74, 0x72, 0x69, 0x78, 0xc7, 0x40  …  0x67, 0x68, 0x2f, 0x52, 0x4c, 0x5f, 0x63, 0x61, 0x6c, 0x66], Dict{String,Array{UInt8,1}}(), nothing, Dict{String,MeshCat.SceneTrees.SceneNode}(\"RL_foot\" => MeshCat.SceneTrees.SceneNode(nothing, UInt8[0x83, 0xa6, 0x6d, 0x61, 0x74, 0x72, 0x69, 0x78, 0xc7, 0x40  …  0x6c, 0x66, 0x2f, 0x52, 0x4c, 0x5f, 0x66, 0x6f, 0x6f, 0x74], Dict{String,Array{UInt8,1}}(), nothing, Dict{String,MeshCat.SceneTrees.SceneNode}(\"after_RL_foot_fixed\" => MeshCat.SceneTrees.SceneNode(nothing, UInt8[0x83, 0xa6, 0x6d, 0x61, 0x74, 0x72, 0x69, 0x78, 0xc7, 0x40  …  0x66, 0x6f, 0x6f, 0x74, 0x5f, 0x66, 0x69, 0x78, 0x65, 0x64], Dict{String,Array{UInt8,1}}(), nothing, Dict{String,MeshCat.SceneTrees.SceneNode}(\"geometry_19\" => MeshCat.SceneTrees.SceneNode(UInt8[0x83, 0xa6, 0x6f, 0x62, 0x6a, 0x65, 0x63, 0x74, 0x84, 0xaa  …  0x65, 0x6f, 0x6d, 0x65, 0x74, 0x72, 0x79, 0x5f, 0x31, 0x39], UInt8[0x83, 0xa6, 0x6d, 0x61, 0x74, 0x72, 0x69, 0x78, 0xc7, 0x40  …  0x65, 0x6f, 0x6d, 0x65, 0x74, 0x72, 0x79, 0x5f, 0x31, 0x39], Dict{String,Array{UInt8,1}}(), nothing, Dict{String,MeshCat.SceneTrees.SceneNode}()))))),\"after_RL_calf_joint\" => MeshCat.SceneTrees.SceneNode(nothing, UInt8[0x83, 0xa6, 0x6d, 0x61, 0x74, 0x72, 0x69, 0x78, 0xc7, 0x40  …  0x63, 0x61, 0x6c, 0x66, 0x5f, 0x6a, 0x6f, 0x69, 0x6e, 0x74], Dict{String,Array{UInt8,1}}(), nothing, Dict{String,MeshCat.SceneTrees.SceneNode}(\"geometry_18\" => MeshCat.SceneTrees.SceneNode(UInt8[0x83, 0xa6, 0x6f, 0x62, 0x6a, 0x65, 0x63, 0x74, 0x84, 0xaa  …  0x65, 0x6f, 0x6d, 0x65, 0x74, 0x72, 0x79, 0x5f, 0x31, 0x38], UInt8[0x83, 0xa6, 0x6d, 0x61, 0x74, 0x72, 0x69, 0x78, 0xc7, 0x40  …  0x65, 0x6f, 0x6d, 0x65, 0x74, 0x72, 0x79, 0x5f, 0x31, 0x38], Dict{String,Array{UInt8,1}}(), nothing, Dict{String,MeshCat.SceneTrees.SceneNode}()))))))),\"after_RL_hip_joint\" => MeshCat.SceneTrees.SceneNode(nothing, UInt8[0x83, 0xa6, 0x6d, 0x61, 0x74, 0x72, 0x69, 0x78, 0xc7, 0x40  …  0x5f, 0x68, 0x69, 0x70, 0x5f, 0x6a, 0x6f, 0x69, 0x6e, 0x74], Dict{String,Array{UInt8,1}}(), nothing, Dict{String,MeshCat.SceneTrees.SceneNode}(\"geometry_16\" => MeshCat.SceneTrees.SceneNode(UInt8[0x83, 0xa6, 0x6f, 0x62, 0x6a, 0x65, 0x63, 0x74, 0x84, 0xaa  …  0x65, 0x6f, 0x6d, 0x65, 0x74, 0x72, 0x79, 0x5f, 0x31, 0x36], UInt8[0x83, 0xa6, 0x6d, 0x61, 0x74, 0x72, 0x69, 0x78, 0xc7, 0x40  …  0x65, 0x6f, 0x6d, 0x65, 0x74, 0x72, 0x79, 0x5f, 0x31, 0x36], Dict{String,Array{UInt8,1}}(), nothing, Dict{String,MeshCat.SceneTrees.SceneNode}()))))),\"FR_hip\" => MeshCat.SceneTrees.SceneNode(nothing, UInt8[0x83, 0xa6, 0x6d, 0x61, 0x74, 0x72, 0x69, 0x78, 0xc7, 0x40  …  0x75, 0x6e, 0x6b, 0x2f, 0x46, 0x52, 0x5f, 0x68, 0x69, 0x70], Dict{String,Array{UInt8,1}}(), nothing, Dict{String,MeshCat.SceneTrees.SceneNode}(\"after_FR_hip_joint\" => MeshCat.SceneTrees.SceneNode(nothing, UInt8[0x83, 0xa6, 0x6d, 0x61, 0x74, 0x72, 0x69, 0x78, 0xc7, 0x40  …  0x5f, 0x68, 0x69, 0x70, 0x5f, 0x6a, 0x6f, 0x69, 0x6e, 0x74], Dict{String,Array{UInt8,1}}(), nothing, Dict{String,MeshCat.SceneTrees.SceneNode}(\"geometry_4\" => MeshCat.SceneTrees.SceneNode(UInt8[0x83, 0xa6, 0x6f, 0x62, 0x6a, 0x65, 0x63, 0x74, 0x84, 0xaa  …  0x67, 0x65, 0x6f, 0x6d, 0x65, 0x74, 0x72, 0x79, 0x5f, 0x34], UInt8[0x83, 0xa6, 0x6d, 0x61, 0x74, 0x72, 0x69, 0x78, 0xc7, 0x40  …  0x67, 0x65, 0x6f, 0x6d, 0x65, 0x74, 0x72, 0x79, 0x5f, 0x34], Dict{String,Array{UInt8,1}}(), nothing, Dict{String,MeshCat.SceneTrees.SceneNode}()))),\"FR_thigh\" => MeshCat.SceneTrees.SceneNode(nothing, UInt8[0x83, 0xa6, 0x6d, 0x61, 0x74, 0x72, 0x69, 0x78, 0xc7, 0x40  …  0x70, 0x2f, 0x46, 0x52, 0x5f, 0x74, 0x68, 0x69, 0x67, 0x68], Dict{String,Array{UInt8,1}}(), nothing, Dict{String,MeshCat.SceneTrees.SceneNode}(\"FR_calf\" => MeshCat.SceneTrees.SceneNode(nothing, UInt8[0x83, 0xa6, 0x6d, 0x61, 0x74, 0x72, 0x69, 0x78, 0xc7, 0x40  …  0x67, 0x68, 0x2f, 0x46, 0x52, 0x5f, 0x63, 0x61, 0x6c, 0x66], Dict{String,Array{UInt8,1}}(), nothing, Dict{String,MeshCat.SceneTrees.SceneNode}(\"FR_foot\" => MeshCat.SceneTrees.SceneNode(nothing, UInt8[0x83, 0xa6, 0x6d, 0x61, 0x74, 0x72, 0x69, 0x78, 0xc7, 0x40  …  0x6c, 0x66, 0x2f, 0x46, 0x52, 0x5f, 0x66, 0x6f, 0x6f, 0x74], Dict{String,Array{UInt8,1}}(), nothing, Dict{String,MeshCat.SceneTrees.SceneNode}(\"after_FR_foot_fixed\" => MeshCat.SceneTrees.SceneNode(nothing, UInt8[0x83, 0xa6, 0x6d, 0x61, 0x74, 0x72, 0x69, 0x78, 0xc7, 0x40  …  0x66, 0x6f, 0x6f, 0x74, 0x5f, 0x66, 0x69, 0x78, 0x65, 0x64], Dict{String,Array{UInt8,1}}(), nothing, Dict{String,MeshCat.SceneTrees.SceneNode}(\"geometry_7\" => MeshCat.SceneTrees.SceneNode(UInt8[0x83, 0xa6, 0x6f, 0x62, 0x6a, 0x65, 0x63, 0x74, 0x84, 0xaa  …  0x67, 0x65, 0x6f, 0x6d, 0x65, 0x74, 0x72, 0x79, 0x5f, 0x37], UInt8[0x83, 0xa6, 0x6d, 0x61, 0x74, 0x72, 0x69, 0x78, 0xc7, 0x40  …  0x67, 0x65, 0x6f, 0x6d, 0x65, 0x74, 0x72, 0x79, 0x5f, 0x37], Dict{String,Array{UInt8,1}}(), nothing, Dict{String,MeshCat.SceneTrees.SceneNode}()))))),\"after_FR_calf_joint\" => MeshCat.SceneTrees.SceneNode(nothing, UInt8[0x83, 0xa6, 0x6d, 0x61, 0x74, 0x72, 0x69, 0x78, 0xc7, 0x40  …  0x63, 0x61, 0x6c, 0x66, 0x5f, 0x6a, 0x6f, 0x69, 0x6e, 0x74], Dict{String,Array{UInt8,1}}(), nothing, Dict{String,MeshCat.SceneTrees.SceneNode}(\"geometry_6\" => MeshCat.SceneTrees.SceneNode(UInt8[0x83, 0xa6, 0x6f, 0x62, 0x6a, 0x65, 0x63, 0x74, 0x84, 0xaa  …  0x67, 0x65, 0x6f, 0x6d, 0x65, 0x74, 0x72, 0x79, 0x5f, 0x36], UInt8[0x83, 0xa6, 0x6d, 0x61, 0x74, 0x72, 0x69, 0x78, 0xc7, 0x40  …  0x67, 0x65, 0x6f, 0x6d, 0x65, 0x74, 0x72, 0x79, 0x5f, 0x36], Dict{String,Array{UInt8,1}}(), nothing, Dict{String,MeshCat.SceneTrees.SceneNode}()))))),\"after_FR_thigh_joint\" => MeshCat.SceneTrees.SceneNode(nothing, UInt8[0x83, 0xa6, 0x6d, 0x61, 0x74, 0x72, 0x69, 0x78, 0xc7, 0x40  …  0x68, 0x69, 0x67, 0x68, 0x5f, 0x6a, 0x6f, 0x69, 0x6e, 0x74], Dict{String,Array{UInt8,1}}(), nothing, Dict{String,MeshCat.SceneTrees.SceneNode}(\"geometry_5\" => MeshCat.SceneTrees.SceneNode(UInt8[0x83, 0xa6, 0x6f, 0x62, 0x6a, 0x65, 0x63, 0x74, 0x84, 0xaa  …  0x67, 0x65, 0x6f, 0x6d, 0x65, 0x74, 0x72, 0x79, 0x5f, 0x35], UInt8[0x83, 0xa6, 0x6d, 0x61, 0x74, 0x72, 0x69, 0x78, 0xc7, 0x40  …  0x67, 0x65, 0x6f, 0x6d, 0x65, 0x74, 0x72, 0x79, 0x5f, 0x35], Dict{String,Array{UInt8,1}}(), nothing, Dict{String,MeshCat.SceneTrees.SceneNode}()))))))),\"FL_hip\" => MeshCat.SceneTrees.SceneNode(nothing, UInt8[0x83, 0xa6, 0x6d, 0x61, 0x74, 0x72, 0x69, 0x78, 0xc7, 0x40  …  0x75, 0x6e, 0x6b, 0x2f, 0x46, 0x4c, 0x5f, 0x68, 0x69, 0x70], Dict{String,Array{UInt8,1}}(), nothing, Dict{String,MeshCat.SceneTrees.SceneNode}(\"after_FL_hip_joint\" => MeshCat.SceneTrees.SceneNode(nothing, UInt8[0x83, 0xa6, 0x6d, 0x61, 0x74, 0x72, 0x69, 0x78, 0xc7, 0x40  …  0x5f, 0x68, 0x69, 0x70, 0x5f, 0x6a, 0x6f, 0x69, 0x6e, 0x74], Dict{String,Array{UInt8,1}}(), nothing, Dict{String,MeshCat.SceneTrees.SceneNode}(\"geometry_8\" => MeshCat.SceneTrees.SceneNode(UInt8[0x83, 0xa6, 0x6f, 0x62, 0x6a, 0x65, 0x63, 0x74, 0x84, 0xaa  …  0x67, 0x65, 0x6f, 0x6d, 0x65, 0x74, 0x72, 0x79, 0x5f, 0x38], UInt8[0x83, 0xa6, 0x6d, 0x61, 0x74, 0x72, 0x69, 0x78, 0xc7, 0x40  …  0x67, 0x65, 0x6f, 0x6d, 0x65, 0x74, 0x72, 0x79, 0x5f, 0x38], Dict{String,Array{UInt8,1}}(), nothing, Dict{String,MeshCat.SceneTrees.SceneNode}()))),\"FL_thigh\" => MeshCat.SceneTrees.SceneNode(nothing, UInt8[0x83, 0xa6, 0x6d, 0x61, 0x74, 0x72, 0x69, 0x78, 0xc7, 0x40  …  0x70, 0x2f, 0x46, 0x4c, 0x5f, 0x74, 0x68, 0x69, 0x67, 0x68], Dict{String,Array{UInt8,1}}(), nothing, Dict{String,MeshCat.SceneTrees.SceneNode}(\"after_FL_thigh_joint\" => MeshCat.SceneTrees.SceneNode(nothing, UInt8[0x83, 0xa6, 0x6d, 0x61, 0x74, 0x72, 0x69, 0x78, 0xc7, 0x40  …  0x68, 0x69, 0x67, 0x68, 0x5f, 0x6a, 0x6f, 0x69, 0x6e, 0x74], Dict{String,Array{UInt8,1}}(), nothing, Dict{String,MeshCat.SceneTrees.SceneNode}(\"geometry_9\" => MeshCat.SceneTrees.SceneNode(UInt8[0x83, 0xa6, 0x6f, 0x62, 0x6a, 0x65, 0x63, 0x74, 0x84, 0xaa  …  0x67, 0x65, 0x6f, 0x6d, 0x65, 0x74, 0x72, 0x79, 0x5f, 0x39], UInt8[0x83, 0xa6, 0x6d, 0x61, 0x74, 0x72, 0x69, 0x78, 0xc7, 0x40  …  0x67, 0x65, 0x6f, 0x6d, 0x65, 0x74, 0x72, 0x79, 0x5f, 0x39], Dict{String,Array{UInt8,1}}(), nothing, Dict{String,MeshCat.SceneTrees.SceneNode}()))),\"FL_calf\" => MeshCat.SceneTrees.SceneNode(nothing, UInt8[0x83, 0xa6, 0x6d, 0x61, 0x74, 0x72, 0x69, 0x78, 0xc7, 0x40  …  0x67, 0x68, 0x2f, 0x46, 0x4c, 0x5f, 0x63, 0x61, 0x6c, 0x66], Dict{String,Array{UInt8,1}}(), nothing, Dict{String,MeshCat.SceneTrees.SceneNode}(\"FL_foot\" => MeshCat.SceneTrees.SceneNode(nothing, UInt8[0x83, 0xa6, 0x6d, 0x61, 0x74, 0x72, 0x69, 0x78, 0xc7, 0x40  …  0x6c, 0x66, 0x2f, 0x46, 0x4c, 0x5f, 0x66, 0x6f, 0x6f, 0x74], Dict{String,Array{UInt8,1}}(), nothing, Dict{String,MeshCat.SceneTrees.SceneNode}(\"after_FL_foot_fixed\" => MeshCat.SceneTrees.SceneNode(nothing, UInt8[0x83, 0xa6, 0x6d, 0x61, 0x74, 0x72, 0x69, 0x78, 0xc7, 0x40  …  0x66, 0x6f, 0x6f, 0x74, 0x5f, 0x66, 0x69, 0x78, 0x65, 0x64], Dict{String,Array{UInt8,1}}(), nothing, Dict{String,MeshCat.SceneTrees.SceneNode}(\"geometry_11\" => MeshCat.SceneTrees.SceneNode(UInt8[0x83, 0xa6, 0x6f, 0x62, 0x6a, 0x65, 0x63, 0x74, 0x84, 0xaa  …  0x65, 0x6f, 0x6d, 0x65, 0x74, 0x72, 0x79, 0x5f, 0x31, 0x31], UInt8[0x83, 0xa6, 0x6d, 0x61, 0x74, 0x72, 0x69, 0x78, 0xc7, 0x40  …  0x65, 0x6f, 0x6d, 0x65, 0x74, 0x72, 0x79, 0x5f, 0x31, 0x31], Dict{String,Array{UInt8,1}}(), nothing, Dict{String,MeshCat.SceneTrees.SceneNode}()))))),\"after_FL_calf_joint\" => MeshCat.SceneTrees.SceneNode(nothing, UInt8[0x83, 0xa6, 0x6d, 0x61, 0x74, 0x72, 0x69, 0x78, 0xc7, 0x40  …  0x63, 0x61, 0x6c, 0x66, 0x5f, 0x6a, 0x6f, 0x69, 0x6e, 0x74], Dict{String,Array{UInt8,1}}(), nothing, Dict{String,MeshCat.SceneTrees.SceneNode}(\"geometry_10\" => MeshCat.SceneTrees.SceneNode(UInt8[0x83, 0xa6, 0x6f, 0x62, 0x6a, 0x65, 0x63, 0x74, 0x84, 0xaa  …  0x65, 0x6f, 0x6d, 0x65, 0x74, 0x72, 0x79, 0x5f, 0x31, 0x30], UInt8[0x83, 0xa6, 0x6d, 0x61, 0x74, 0x72, 0x69, 0x78, 0xc7, 0x40  …  0x65, 0x6f, 0x6d, 0x65, 0x74, 0x72, 0x79, 0x5f, 0x31, 0x30], Dict{String,Array{UInt8,1}}(), nothing, Dict{String,MeshCat.SceneTrees.SceneNode}()))))))))),\"imu_link\" => MeshCat.SceneTrees.SceneNode(nothing, UInt8[0x83, 0xa6, 0x6d, 0x61, 0x74, 0x72, 0x69, 0x78, 0xc7, 0x40  …  0x6b, 0x2f, 0x69, 0x6d, 0x75, 0x5f, 0x6c, 0x69, 0x6e, 0x6b], Dict{String,Array{UInt8,1}}(), nothing, Dict{String,MeshCat.SceneTrees.SceneNode}(\"after_imu_joint\" => MeshCat.SceneTrees.SceneNode(nothing, UInt8[0x83, 0xa6, 0x6d, 0x61, 0x74, 0x72, 0x69, 0x78, 0xc7, 0x40  …  0x5f, 0x69, 0x6d, 0x75, 0x5f, 0x6a, 0x6f, 0x69, 0x6e, 0x74], Dict{String,Array{UInt8,1}}(), nothing, Dict{String,MeshCat.SceneTrees.SceneNode}(\"geometry_3\" => MeshCat.SceneTrees.SceneNode(UInt8[0x83, 0xa6, 0x6f, 0x62, 0x6a, 0x65, 0x63, 0x74, 0x84, 0xaa  …  0x67, 0x65, 0x6f, 0x6d, 0x65, 0x74, 0x72, 0x79, 0x5f, 0x33], UInt8[0x83, 0xa6, 0x6d, 0x61, 0x74, 0x72, 0x69, 0x78, 0xc7, 0x40  …  0x67, 0x65, 0x6f, 0x6d, 0x65, 0x74, 0x72, 0x79, 0x5f, 0x33], Dict{String,Array{UInt8,1}}(), nothing, Dict{String,MeshCat.SceneTrees.SceneNode}()))))))),\"after_RR_hip_joint\" => MeshCat.SceneTrees.SceneNode(nothing, UInt8[0x83, 0xa6, 0x6d, 0x61, 0x74, 0x72, 0x69, 0x78, 0xc7, 0x40  …  0x5f, 0x68, 0x69, 0x70, 0x5f, 0x6a, 0x6f, 0x69, 0x6e, 0x74], Dict{String,Array{UInt8,1}}(), nothing, Dict{String,MeshCat.SceneTrees.SceneNode}(\"geometry_12\" => MeshCat.SceneTrees.SceneNode(UInt8[0x83, 0xa6, 0x6f, 0x62, 0x6a, 0x65, 0x63, 0x74, 0x84, 0xaa  …  0x65, 0x6f, 0x6d, 0x65, 0x74, 0x72, 0x79, 0x5f, 0x31, 0x32], UInt8[0x83, 0xa6, 0x6d, 0x61, 0x74, 0x72, 0x69, 0x78, 0xc7, 0x40  …  0x65, 0x6f, 0x6d, 0x65, 0x74, 0x72, 0x79, 0x5f, 0x31, 0x32], Dict{String,Array{UInt8,1}}(), nothing, Dict{String,MeshCat.SceneTrees.SceneNode}()))))))))))))))))))))), Set{Any}(), ip\"127.0.0.1\", 8700))"
      ]
     },
     "execution_count": 3,
     "metadata": {},
     "output_type": "execute_result"
    }
   ],
   "source": [
    "# Load in the Robot model\n",
    "model = UnitreeA1()\n",
    "\n",
    "# Open up a visualizer\n",
    "mvis = initialize_visualizer(model)\n",
    "render(mvis)"
   ]
  },
  {
   "cell_type": "code",
   "execution_count": 4,
   "id": "021b3f5b-e87a-451a-af2e-35b54933c1f7",
   "metadata": {},
   "outputs": [
    {
     "data": {
      "text/plain": [
       "217.37236872332184"
      ]
     },
     "execution_count": 4,
     "metadata": {},
     "output_type": "execute_result"
    }
   ],
   "source": [
    "# Set initial configuration and evaluate the dynamics\n",
    "x_guess = initial_state(model)\n",
    "set_configuration!(mvis, x_guess[1:state_dim(model)÷2])\n",
    "\n",
    "# Evaluate the continuous dynamics\n",
    "u = zeros(12)\n",
    "xdot = dynamics(model, x_guess, u)\n",
    "\n",
    "# Evaluate the continuous dynamics Jacobian\n",
    "∇f = jacobian(model, x_guess, u)\n",
    "\n",
    "norm(xdot)  # we want this to be zero!"
   ]
  },
  {
   "cell_type": "markdown",
   "id": "fd94025b-0d95-4e8f-98cb-9549de36457a",
   "metadata": {},
   "source": [
    "## 一、搞清楚维度\n",
    "\n",
    "- 状态的维度：dim(x)\n",
    "- 控制量的维度： dim(u)\n",
    "- 雅可比的维度： dim(jacobian)"
   ]
  },
  {
   "cell_type": "code",
   "execution_count": 5,
   "id": "704d349d-a31f-4cc7-8d14-11ccebcccbf2",
   "metadata": {},
   "outputs": [
    {
     "name": "stdout",
     "output_type": "stream",
     "text": [
      "size(x_guess) = (30,)\n",
      "size(u) = (12,)\n",
      "size(∇f) = (30, 42)\n"
     ]
    }
   ],
   "source": [
    "@show size(x_guess)\n",
    "@show size(u)\n",
    "@show size(∇f);"
   ]
  },
  {
   "cell_type": "markdown",
   "id": "e761295d-ce86-4f20-8a01-4dcca80091aa",
   "metadata": {},
   "source": [
    "## 二、问题和条件\n",
    "\n",
    "问题：\n",
    "$$\n",
    "\\begin{align}\n",
    "& \\text{minimize}_{x,u} && \\frac{1}{2} (x-x_\\text{guess})^T (x-x_\\text{guess}) + 0.5e^{-3} u^T u \\\\\n",
    "& \\text{subject to} && f(x,u) = 0\n",
    "\\end{align}\n",
    "$$\n",
    "\n",
    "拉格朗日函数：\n",
    "$$\n",
    "L(x, u, \\lambda) = \\frac{1}{2} (x-x_\\text{guess})^T (x-x_\\text{guess}) + 0.5e^{-3} u^T u + \\lambda^T f(x,u)\n",
    "$$\n",
    "\n",
    "条件：\n",
    "$$\n",
    "\\nabla_x L(x, u, \\lambda) = 0 \\\\\n",
    "\\nabla_u L(x, u, \\lambda) = 0 \\\\\n",
    "\\nabla_{\\lambda} L(x, u, \\lambda) = 0\n",
    "$$\n"
   ]
  },
  {
   "cell_type": "code",
   "execution_count": 6,
   "id": "d50c14bb-cf8a-41aa-b683-b35dd4ead08f",
   "metadata": {},
   "outputs": [
    {
     "data": {
      "text/plain": [
       "kkt_conditions (generic function with 1 method)"
      ]
     },
     "execution_count": 6,
     "metadata": {},
     "output_type": "execute_result"
    }
   ],
   "source": [
    "function kkt_conditions(model::UnitreeA1, x, u, λ, A, B)\n",
    "    # Get initial state from the model (if you need it)\n",
    "    x_guess = initial_state(model)\n",
    "    \n",
    "    # TODO: Fill out these lines\n",
    "    ∇ₓL = (x-x_guess) + A'*λ\n",
    "    ∇ᵤL = exp(-3)*u + B'*λ\n",
    "    c = dynamics(model, x, u)\n",
    "    \n",
    "    # Return the concatenated vector\n",
    "    return [∇ₓL; ∇ᵤL; c]\n",
    "end"
   ]
  },
  {
   "cell_type": "markdown",
   "id": "72350f30-775e-458a-af2f-2414ba205225",
   "metadata": {},
   "source": [
    "## 三、正则化和高斯牛顿\n",
    "\n",
    "KKT条件的残差是$r=[\\nabla_x L; \\nabla_u L; c]$，可以理解为$r(z)=0$，那么根据泰勒展开可以得到\n",
    "\n",
    "$$\n",
    "\\begin{align}\n",
    "r(z) & = r(\\bar{z}) + \\frac{ \\partial r } { \\partial z } (\\bar{z}) \\Delta z = 0  \\\\\n",
    "\\Delta z & = - \\big ( \\frac{ \\partial r } { \\partial z } (\\bar{z}) \\big )^{-1} r(\\bar{z}) \\\\ \n",
    "\\Delta z & = - M \\backslash r\n",
    "\\end{align}\n",
    "$$\n",
    "可以看出$M$一定要是可逆的，所以应该尽量让他可逆。\n",
    "$$\n",
    "\\begin{align}\n",
    "& \\text{minimize}_{x,u} && f(x,u) \\\\\n",
    "& \\text{subject to} && C(x,u) = 0\n",
    "\\end{align}\n",
    "$$\n",
    "这个问题可以转化为：\n",
    "$$\n",
    "\\min_{x,u} \\max_{\\lambda} \\quad f(x,u) + \\lambda^T C(x,u)\n",
    "$$\n",
    "所有最优解的位置就是这个最小最大问题的一个鞍点，所以在最优解这个地方，一定有dim(x)+dim(u)个正特征根和dim($\\lambda$)个负特征根\n",
    "\n",
    "如果原问题可以写为\n",
    "$$\n",
    "L(x, u, \\lambda) = f_0 (x, u) + \\lambda^T f(x, u) \n",
    "$$\n",
    "可以看出\n",
    "$$\n",
    "r = \n",
    "\\begin{bmatrix}\n",
    "\\nabla_x L = \\nabla_x f_0 + (\\frac{\\partial f}{\\partial x})^T \\lambda  \\\\\n",
    "\\nabla_u L = \\nabla_u f_0 + (\\frac{\\partial f}{\\partial u})^T \\lambda \\\\\n",
    "\\nabla_{\\lambda} L = f(x, u) \n",
    "\\end{bmatrix}\n",
    "= 0\n",
    "$$\n",
    "\n",
    "那么$\\frac{ \\partial r } { \\partial x }$ 和 $\\frac{ \\partial r } { \\partial u }$ 就会涉及对$\\frac{\\partial f}{\\partial x}, \\frac{\\partial f}{\\partial u}$的二阶导，计算复杂所以我们经常忽略动力学的二阶导数，即对A和B，不对其做对x和u的导数，这就是高斯牛顿法"
   ]
  },
  {
   "cell_type": "code",
   "execution_count": 7,
   "id": "042e1406-54d4-46a4-b067-0760ecfae7d6",
   "metadata": {},
   "outputs": [
    {
     "data": {
      "text/plain": [
       "kkt_jacobian (generic function with 2 methods)"
      ]
     },
     "execution_count": 7,
     "metadata": {},
     "output_type": "execute_result"
    }
   ],
   "source": [
    "function kkt_jacobian(model::UnitreeA1, x, u, λ, A, B, ρ=1e-5)\n",
    "    # HINT: You may find these ranges to be helpful\n",
    "    parts = get_partition(model)\n",
    "    ix = parts[1]     # state variables\n",
    "    iu = parts[2]     # control variables\n",
    "    ic = parts[3]     # constraints\n",
    "    n = length(ix)    # number of states\n",
    "    m = length(iu)    # number of controls\n",
    "    \n",
    "    # TODO: Create the KKT matrix\n",
    "    H = zeros(2n+m, 2n+m)\n",
    "    \n",
    "    H[1:n, 1:n] = I(n)\n",
    "    H[1:n, n+m+1:end] = A'\n",
    "    \n",
    "    H[n+1:n+m, n+1:n+m] = exp(-3)*I(m)\n",
    "    H[n+1:n+m, n+m+1:end] = B'\n",
    "    \n",
    "    H[n+m+1:end, 1:n] = A\n",
    "    H[n+m+1:end, n+1:n+m] = B\n",
    "    \n",
    "    Hreg = H + Diagonal([ones(n+m); -ones(n)])*ρ\n",
    "    \n",
    "    return Symmetric(Hreg)\n",
    "end"
   ]
  },
  {
   "cell_type": "markdown",
   "id": "b34f3c2a-0a7a-4812-8544-5d256800d9da",
   "metadata": {},
   "source": [
    "## 四、高斯牛顿法+正则化求解迭代"
   ]
  },
  {
   "cell_type": "code",
   "execution_count": 9,
   "id": "0b09c180-31a3-45b1-92c2-c13b2a702cc3",
   "metadata": {},
   "outputs": [],
   "source": [
    "using Printf\n",
    "\"\"\"\n",
    "    newton_solve(model, x_guess, [mvis; verbose])\n",
    "\n",
    "Use Newton's method to find an equilibrium point for the quadruped, starting at `x_guess`. \n",
    "Should return the optimal states, controls, and Lagrange multipliers, along with the vector\n",
    "of 2-norm residuals for each iteration.\n",
    "\n",
    "# Optional Arguments\n",
    "* `mvis`: Pass in a MechanismVisualizer to visualize the iterations in a MeshCat window\n",
    "* `verbose`: flag to print out solver iterations\n",
    "* `max_iters`: maximum number of solver iterations\n",
    "* `ρ`: regularization\n",
    "\"\"\"\n",
    "function newton_solve(model::UnitreeA1, x_guess, mvis=nothing; verbose=true, max_iters=50, ρ=1e-3)\n",
    "    # 初始化 x, u, λ\n",
    "    u = zeros(12)\n",
    "    x = copy(x_guess) \n",
    "    λ = zero(x_guess)\n",
    "    ix,iu,ix2 = get_partition(model)\n",
    "    n = length(ix)\n",
    "    m = length(iu) \n",
    "    \n",
    "    # 初始化 线性搜索参数 α\n",
    "    α = 1\n",
    "    \n",
    "    # 计算开始时候的残差\n",
    "    A = zeros(n,n)\n",
    "    B = zeros(n, m)\n",
    "    ∇f = jacobian(model, x, u) \n",
    "    \n",
    "    A = ∇f[:, 1:n]\n",
    "    B = ∇f[:, n+1:end]\n",
    "    \n",
    "    res = kkt_conditions(model, x, u, λ, A, B)\n",
    "    res_norm = norm(res)\n",
    "    \n",
    "    # 记录\n",
    "    res_hist = [res_norm]\n",
    "    iter = 0 \n",
    "    \n",
    "    # 开始循环\n",
    "    while iter ≤ max_iters\n",
    "        \n",
    "        println(\"Iter:  $iter  ||  Res: $res_norm\")\n",
    "        \n",
    "        # 计算 Δz \n",
    "        H = kkt_jacobian(model, x, u, λ, A, B)\n",
    "        # ! todo 加正则\n",
    "        Δz = - H\\res\n",
    "        # 分开\n",
    "        Δx = Δz[1:n]\n",
    "        Δu = Δz[n+1:n+m]\n",
    "        Δλ = Δz[n+m+1:end]\n",
    "        # 更新 todo 加线性搜索\n",
    "        x_next = x + α * Δx \n",
    "        u_next = u + α * Δu \n",
    "        λ_next = λ + α * Δλ\n",
    "        \n",
    "        ∇f = jacobian(model, x_next, u_next)\n",
    "        A_next = ∇f[:, 1:n]\n",
    "        B_next = ∇f[:, n+1:end] \n",
    "        r_next = kkt_conditions(model, x_next, u_next, λ_next, A_next, B_next)\n",
    "        \n",
    "        # 更新迭代\n",
    "        x = x_next\n",
    "        u = u_next\n",
    "        λ = λ_next \n",
    "        A = A_next \n",
    "        B = B_next\n",
    "        \n",
    "        res = r_next\n",
    "        res_norm = norm(res)\n",
    "        res_hist = [res_hist res_norm]\n",
    "        \n",
    "        if res_norm < 1e-6\n",
    "            break \n",
    "        end\n",
    "        \n",
    "        iter = iter + 1\n",
    "    end\n",
    "        \n",
    "    return x,u,λ, res_hist\n",
    "end\n",
    "render(mvis);"
   ]
  },
  {
   "cell_type": "code",
   "execution_count": 10,
   "id": "d737684d-7993-406e-8cf4-f17c15b44b0f",
   "metadata": {},
   "outputs": [
    {
     "name": "stdout",
     "output_type": "stream",
     "text": [
      "Iter:  0  ||  Res: 217.37236872332184\n",
      "Iter:  1  ||  Res: 86.21506105846909\n",
      "Iter:  2  ||  Res: 74.73573797711951\n",
      "Iter:  3  ||  Res: 2307.8611285147667\n",
      "Iter:  4  ||  Res: 258.5940077376874\n",
      "Iter:  5  ||  Res: 127.14158896315523\n",
      "Iter:  6  ||  Res: 153.02594233753993\n",
      "Iter:  7  ||  Res: 110.40128822071043\n",
      "Iter:  8  ||  Res: 65.61119251542088\n",
      "Iter:  9  ||  Res: 403.98161501964546\n",
      "Iter:  10  ||  Res: 108.73623551456129\n",
      "Iter:  11  ||  Res: 175.3707664486825\n",
      "Iter:  12  ||  Res: 161.23991078500995\n",
      "Iter:  13  ||  Res: 29.01430044041848\n",
      "Iter:  14  ||  Res: 388.37944041476754\n",
      "Iter:  15  ||  Res: 92.54308554205598\n",
      "Iter:  16  ||  Res: 473.3639655299676\n",
      "Iter:  17  ||  Res: 109.98505898387256\n",
      "Iter:  18  ||  Res: 223.26157759906866\n",
      "Iter:  19  ||  Res: 86.7187052805797\n",
      "Iter:  20  ||  Res: 238.46260698805114\n",
      "Iter:  21  ||  Res: 386.1195788570485\n",
      "Iter:  22  ||  Res: 108.74194467904901\n",
      "Iter:  23  ||  Res: 42.98748204631982\n",
      "Iter:  24  ||  Res: 57.47754572291651\n",
      "Iter:  25  ||  Res: 6.342224128431849\n",
      "Iter:  26  ||  Res: 0.8528962979923912\n",
      "Iter:  27  ||  Res: 0.05026250114341599\n",
      "Iter:  28  ||  Res: 3.336827749311028\n",
      "Iter:  29  ||  Res: 0.39473530120063893\n",
      "Iter:  30  ||  Res: 0.03044637955285621\n",
      "Iter:  31  ||  Res: 0.002136404776130533\n",
      "Iter:  32  ||  Res: 0.00015147724982155097\n",
      "Iter:  33  ||  Res: 9.959076697185311e-6\n"
     ]
    }
   ],
   "source": [
    "xstar, ustar, λstar, reses = newton_solve(model, x_guess, mvis);"
   ]
  },
  {
   "cell_type": "code",
   "execution_count": 12,
   "id": "7da0b236-0795-424d-97cc-1ed99d2eb88b",
   "metadata": {},
   "outputs": [],
   "source": [
    "iters = LinRange(1, length(reses),length(reses));"
   ]
  },
  {
   "cell_type": "code",
   "execution_count": 13,
   "id": "3af209e8-0ac9-47ca-9db2-e381ffa9977a",
   "metadata": {},
   "outputs": [
    {
     "data": {
      "image/png": "[encoded data removed]",
      "text/plain": [
       "Figure(PyObject <Figure size 640x480 with 1 Axes>)"
      ]
     },
     "metadata": {},
     "output_type": "display_data"
    },
    {
     "data": {
      "text/plain": [
       "1-element Array{PyCall.PyObject,1}:\n",
       " PyObject <matplotlib.lines.Line2D object at 0x0000000062666F70>"
      ]
     },
     "execution_count": 13,
     "metadata": {},
     "output_type": "execute_result"
    }
   ],
   "source": [
    "using PyPlot\n",
    "semilogy(iters,reses[1,:],\"rs-.\")"
   ]
  },
  {
   "cell_type": "markdown",
   "id": "8ad2938c-0e3d-452d-9c58-21039db327ef",
   "metadata": {},
   "source": [
    "## 五、稳定性分析\n",
    "通过稳定分析，可以看出现在得到的平衡点是不稳定的"
   ]
  },
  {
   "cell_type": "code",
   "execution_count": 16,
   "id": "4fec8039-b54b-4b87-9588-f77a5d9512c4",
   "metadata": {},
   "outputs": [
    {
     "name": "stdout",
     "output_type": "stream",
     "text": [
      "final_residual = norm(dynamics(model::UnitreeA1, xstar, ustar)) = 1.6782925537716033e-12\n"
     ]
    }
   ],
   "source": [
    "# 判定是一个平衡点\n",
    "@show final_residual = norm(dynamics(model::UnitreeA1, xstar, ustar));"
   ]
  },
  {
   "cell_type": "code",
   "execution_count": 18,
   "id": "6df81ff4-a4f6-4203-8fc5-0a960e54e156",
   "metadata": {},
   "outputs": [],
   "source": [
    "ix,iu,ix2 = get_partition(model)\n",
    "∇f = jacobian(model, xstar, ustar)\n",
    "n = length(ix)    # number of states\n",
    "m = length(iu)    # number of controls\n",
    "A = ∇f[1:n,1:n]\n",
    "B = ∇f[1:n,n+1:n+m];"
   ]
  },
  {
   "cell_type": "code",
   "execution_count": 27,
   "id": "810c76ea-89c3-4ddb-ac60-fed93c659ef8",
   "metadata": {},
   "outputs": [
    {
     "data": {
      "text/plain": [
       "30-element Array{Float64,1}:\n",
       " -59.11203745587533\n",
       " -15.634276373527596\n",
       "  -7.354384313315684\n",
       "  -6.059569596472776\n",
       "  -5.14052349328333\n",
       "  -4.0968466903828045\n",
       "  -3.9547466269271663\n",
       "  -3.672198555408971\n",
       "  -3.154278110720422\n",
       "  -2.8701049903385214\n",
       "  -7.820133429703446e-15\n",
       "  -7.820133429703446e-15\n",
       "  -6.728231458066521e-15\n",
       "   ⋮\n",
       "   4.440892098500626e-16\n",
       "   4.440892098500626e-16\n",
       "   2.870104990338524\n",
       "   3.154278110720415\n",
       "   3.672198555408975\n",
       "   3.9547466269271774\n",
       "   4.096846690382787\n",
       "   5.140523493283363\n",
       "   6.059569596472787\n",
       "   7.354384313315699\n",
       "  15.634276373527582\n",
       "  59.112037455875296"
      ]
     },
     "execution_count": 27,
     "metadata": {},
     "output_type": "execute_result"
    }
   ],
   "source": [
    "eigs = eigvals(A)\n",
    "max.(real.(eigs))"
   ]
  },
  {
   "cell_type": "code",
   "execution_count": null,
   "id": "f7f96863-1f05-43a3-a4aa-f8dec73cfce5",
   "metadata": {},
   "outputs": [],
   "source": []
  }
 ],
 "metadata": {
  "kernelspec": {
   "display_name": "Julia 1.5.4",
   "language": "julia",
   "name": "julia-1.5"
  },
  "language_info": {
   "file_extension": ".jl",
   "mimetype": "application/julia",
   "name": "julia",
   "version": "1.5.4"
  }
 },
 "nbformat": 4,
 "nbformat_minor": 5
}
