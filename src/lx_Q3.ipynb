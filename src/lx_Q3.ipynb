{
 "cells": [
  {
   "cell_type": "code",
   "execution_count": 1,
   "id": "3ccf1f7a-d1ae-4180-bcec-18e126d69fdf",
   "metadata": {},
   "outputs": [
    {
     "name": "stderr",
     "output_type": "stream",
     "text": [
      "\u001b[32m\u001b[1m Activating\u001b[22m\u001b[39m environment at `C:\\Users\\Zero\\Documents\\GitHub\\16-745-hw1\\Project.toml`\n"
     ]
    }
   ],
   "source": [
    "import Pkg; Pkg.activate(joinpath(@__DIR__,\"..\")); Pkg.instantiate();"
   ]
  },
  {
   "cell_type": "code",
   "execution_count": 2,
   "id": "dfeb7f12-922f-4158-97dc-21de647ea990",
   "metadata": {},
   "outputs": [],
   "source": [
    "using Random, LinearAlgebra"
   ]
  },
  {
   "cell_type": "markdown",
   "id": "139d478a-35cb-45cc-b8d8-c4705d8e5484",
   "metadata": {},
   "source": [
    "## 一、定义问题结构和维度信息\n",
    "$$ \\begin{align}\n",
    "    &\\text{minimize}_{x} && \\frac{1}{2} x^T P x + q^T x \\\\\n",
    "    &\\text{subject to} && A x = b \\\\\n",
    "    &&& C x \\leq d \\\\\n",
    "\\end{align} $$"
   ]
  },
  {
   "cell_type": "code",
   "execution_count": 3,
   "id": "94329490-126d-4f28-aaaa-036f1632fef6",
   "metadata": {},
   "outputs": [],
   "source": [
    "struct QPData\n",
    "    P::Matrix{Float64}\n",
    "    q::Vector{Float64}\n",
    "    A::Matrix{Float64}\n",
    "    b::Vector{Float64}\n",
    "    C::Matrix{Float64}\n",
    "    d::Vector{Float64}\n",
    "end"
   ]
  },
  {
   "cell_type": "code",
   "execution_count": 4,
   "id": "a7e6b080-c444-4308-ade7-2414f29745db",
   "metadata": {},
   "outputs": [
    {
     "data": {
      "text/plain": [
       "QPData"
      ]
     },
     "execution_count": 4,
     "metadata": {},
     "output_type": "execute_result"
    }
   ],
   "source": [
    "function QPData(n::Int, m::Int, p::Int)\n",
    "    QPData(zeros(n,n), zeros(n), zeros(m,n), zeros(m), zeros(p,n), zeros(p))\n",
    "end"
   ]
  },
  {
   "cell_type": "code",
   "execution_count": 5,
   "id": "f32398bd-f4c8-483c-92bc-4d149eb184f4",
   "metadata": {},
   "outputs": [
    {
     "data": {
      "text/plain": [
       "num_ineq (generic function with 1 method)"
      ]
     },
     "execution_count": 5,
     "metadata": {},
     "output_type": "execute_result"
    }
   ],
   "source": [
    "num_eq(qp::QPData) = length(qp.b)\n",
    "num_ineq(qp::QPData) = length(qp.d)"
   ]
  },
  {
   "cell_type": "code",
   "execution_count": 6,
   "id": "8be3cb38-cbbf-4b40-ad5b-62343998ba20",
   "metadata": {},
   "outputs": [],
   "source": [
    "Base.size(qp::QPData) = (length(qp.q), num_eq(qp), num_ineq(qp))"
   ]
  },
  {
   "cell_type": "code",
   "execution_count": 7,
   "id": "fcf32fcd-8d28-4b53-a9de-a7c1e23aad53",
   "metadata": {},
   "outputs": [
    {
     "data": {
      "text/plain": [
       "cin (generic function with 1 method)"
      ]
     },
     "execution_count": 7,
     "metadata": {},
     "output_type": "execute_result"
    }
   ],
   "source": [
    "objective(qp::QPData, x) = 0.5 * x'qp.P*x + qp.q'x\n",
    "ceq(qp::QPData, x) = qp.A * x - qp.b\n",
    "cin(qp::QPData, x) = qp.C * x - qp.d"
   ]
  },
  {
   "cell_type": "code",
   "execution_count": 8,
   "id": "b3c9feb8-1d69-4c4d-a1e8-33ea4d43f45a",
   "metadata": {},
   "outputs": [
    {
     "data": {
      "text/plain": [
       "primal_residual (generic function with 1 method)"
      ]
     },
     "execution_count": 8,
     "metadata": {},
     "output_type": "execute_result"
    }
   ],
   "source": [
    "function primal_residual(qp::QPData, x, λ, μ)\n",
    "    qp.P*x + qp.q + qp.A'λ + qp.C'μ\n",
    "end"
   ]
  },
  {
   "cell_type": "code",
   "execution_count": 9,
   "id": "5e34391d-eb1b-4f2d-9ed5-2af7c3b7150f",
   "metadata": {},
   "outputs": [
    {
     "data": {
      "text/plain": [
       "dual_residual (generic function with 1 method)"
      ]
     },
     "execution_count": 9,
     "metadata": {},
     "output_type": "execute_result"
    }
   ],
   "source": [
    "function dual_residual(qp::QPData, x, λ, μ)\n",
    "    g = ceq(qp, x)\n",
    "    h = cin(qp, x)\n",
    "    return [g; max.(0, h)]\n",
    "end"
   ]
  },
  {
   "cell_type": "code",
   "execution_count": 10,
   "id": "d77cd37e-5a44-4cba-bbdd-c0dbcdd77d59",
   "metadata": {},
   "outputs": [
    {
     "data": {
      "text/plain": [
       "complimentarity (generic function with 1 method)"
      ]
     },
     "execution_count": 10,
     "metadata": {},
     "output_type": "execute_result"
    }
   ],
   "source": [
    "function complimentarity(qp::QPData, x, λ, μ)\n",
    "    return [min.(0, μ); μ .* cin(qp, x)]\n",
    "end"
   ]
  },
  {
   "cell_type": "markdown",
   "id": "a48c6c23-81d9-4736-9813-9be2c89cf246",
   "metadata": {},
   "source": [
    "## 二、拉格朗日到增广拉格朗日\n",
    "\n",
    "原问题可以转化为：\n",
    "$$\n",
    "\\min_x \\max_{\\lambda, u \\ge 0} \\quad \\frac{1}{2} x^T P x + q^T x + \\lambda^T (Ax-b) + u^T (Cx - d) \\qquad \\text{问题1}\n",
    "$$\n",
    "\n",
    "仔细看内部问题\n",
    "$$\n",
    "\\max_{\\lambda, u \\ge 0} \\quad \\frac{1}{2} x^T P x + q^T x + \\lambda^T (Ax-b) + u^T (Cx - d) \\qquad \\text{问题2}\n",
    "$$\n",
    "\n",
    "- 如果 $Cx-d < 0$，那么$u$只能为0，所以问题2变成了\n",
    "$$\\max_{\\lambda, u = 0} \\quad \\frac{1}{2} x^T P x + q^T x + \\lambda^T (Ax-b) $$\n",
    "- 如果 $Cx-d \\ge 0$，问题2变成了\n",
    "$$\\max_{\\lambda, u > 0} \\quad \\frac{1}{2} x^T P x + q^T x + \\lambda^T (Ax-b) + u^T (Cx - d)$$\n",
    "\n",
    "如果$(Ax-b) \\neq 0$或者$(Cx - d)> 0$，那么内部问题就是无穷的，这就迫使约束满足了，所以问题1和原问题是等价的。那么如何求解问题2，由于有一个$\\max$操作，非光滑的，不好直接求解。所以用近端点法，就是给一个先验值，然后使得不能离太远，这样就会形成一个关于$\\lambda, u$的二阶最大化问题\n",
    "\n",
    "$$\n",
    "\\max_{\\lambda, u \\ge 0} \\quad \\frac{1}{2} x^T P x + q^T x + \\lambda^T (Ax-b) - \\frac{1}{2 \\rho} \\| \\lambda - \\bar{\\lambda} \\|^2 + u^T (Cx - d) - \\frac{1}{2 \\rho} \\| u - \\bar{u} \\|^2\\qquad \\text{问题3}\n",
    "$$\n",
    "\n",
    "问题3解的条件是：\n",
    "$$\n",
    "\\lambda = \\bar{\\lambda} + \\rho (Ax - b) \\quad \\text{条件1} \\\\ \n",
    "u = \\max(\\bar{u} + \\rho (Cx -d ), 0 )  \\quad \\text{条件2}\n",
    "$$\n",
    "\n",
    "条件2 可以写为\n",
    "$$\n",
    "u = \\left \\{\n",
    "\\begin{aligned}\n",
    "\\bar{u} + \\rho (Cx -d ), \\ & \\text{if} \\quad Cx -d \\ge 0 \\\\\n",
    "0, \\ & \\text{if} \\quad  u < 0\n",
    "\\end{aligned}\n",
    "\\right.\n",
    "$$\n",
    "\n",
    "把条件1和2带回问题3，使得问题1变为：\n",
    "$$\n",
    "\\min_x \\quad \\frac{1}{2} x^T P x + q^T x + \\bar{\\lambda}^T (Ax-b)+\\frac{\\rho}{2} \\| Ax - b \\|^2 \n",
    "$$\n",
    "\n"
   ]
  },
  {
   "cell_type": "code",
   "execution_count": null,
   "id": "f6801b7d-0870-4def-89a2-639a9018d1ac",
   "metadata": {},
   "outputs": [],
   "source": []
  }
 ],
 "metadata": {
  "kernelspec": {
   "display_name": "Julia 1.5.4",
   "language": "julia",
   "name": "julia-1.5"
  },
  "language_info": {
   "file_extension": ".jl",
   "mimetype": "application/julia",
   "name": "julia",
   "version": "1.5.4"
  }
 },
 "nbformat": 4,
 "nbformat_minor": 5
}
