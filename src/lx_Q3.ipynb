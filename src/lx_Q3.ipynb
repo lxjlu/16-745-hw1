{
 "cells": [
  {
   "cell_type": "code",
   "execution_count": 1,
   "id": "3ccf1f7a-d1ae-4180-bcec-18e126d69fdf",
   "metadata": {},
   "outputs": [
    {
     "name": "stderr",
     "output_type": "stream",
     "text": [
      "\u001b[32m\u001b[1m Activating\u001b[22m\u001b[39m environment at `C:\\Users\\Administrator\\Documents\\GitHub\\16-745-hw1\\Project.toml`\n"
     ]
    }
   ],
   "source": [
    "import Pkg; Pkg.activate(joinpath(@__DIR__,\"..\")); Pkg.instantiate();"
   ]
  },
  {
   "cell_type": "code",
   "execution_count": 2,
   "id": "dfeb7f12-922f-4158-97dc-21de647ea990",
   "metadata": {},
   "outputs": [],
   "source": [
    "using Random, LinearAlgebra"
   ]
  },
  {
   "cell_type": "code",
   "execution_count": 3,
   "id": "94329490-126d-4f28-aaaa-036f1632fef6",
   "metadata": {},
   "outputs": [],
   "source": [
    "struct QPData\n",
    "    P::Matrix{Float64}\n",
    "    q::Vector{Float64}\n",
    "    A::Matrix{Float64}\n",
    "    b::Vector{Float64}\n",
    "    C::Matrix{Float64}\n",
    "    d::Vector{Float64}\n",
    "end"
   ]
  },
  {
   "cell_type": "code",
   "execution_count": 4,
   "id": "a7e6b080-c444-4308-ade7-2414f29745db",
   "metadata": {},
   "outputs": [
    {
     "data": {
      "text/plain": [
       "QPData"
      ]
     },
     "execution_count": 4,
     "metadata": {},
     "output_type": "execute_result"
    }
   ],
   "source": [
    "function QPData(n::Int, m::Int, p::Int)\n",
    "    QPData(zeros(n,n), zeros(n), zeros(m,n), zeros(m), zeros(p,n), zeros(p))\n",
    "end"
   ]
  },
  {
   "cell_type": "code",
   "execution_count": 5,
   "id": "f32398bd-f4c8-483c-92bc-4d149eb184f4",
   "metadata": {},
   "outputs": [
    {
     "data": {
      "text/plain": [
       "num_ineq (generic function with 1 method)"
      ]
     },
     "execution_count": 5,
     "metadata": {},
     "output_type": "execute_result"
    }
   ],
   "source": [
    "num_eq(qp::QPData) = length(qp.b)\n",
    "num_ineq(qp::QPData) = length(qp.d)"
   ]
  },
  {
   "cell_type": "code",
   "execution_count": 6,
   "id": "8be3cb38-cbbf-4b40-ad5b-62343998ba20",
   "metadata": {},
   "outputs": [],
   "source": [
    "Base.size(qp::QPData) = (length(qp.q), num_eq(qp), num_ineq(qp))"
   ]
  },
  {
   "cell_type": "code",
   "execution_count": 7,
   "id": "fcf32fcd-8d28-4b53-a9de-a7c1e23aad53",
   "metadata": {},
   "outputs": [
    {
     "data": {
      "text/plain": [
       "cin (generic function with 1 method)"
      ]
     },
     "execution_count": 7,
     "metadata": {},
     "output_type": "execute_result"
    }
   ],
   "source": [
    "objective(qp::QPData, x) = 0.5 * x'qp.P*x + qp.q'x\n",
    "ceq(qp::QPData, x) = qp.A * x - qp.b\n",
    "cin(qp::QPData, x) = qp.C * x - qp.d"
   ]
  },
  {
   "cell_type": "code",
   "execution_count": 8,
   "id": "b3c9feb8-1d69-4c4d-a1e8-33ea4d43f45a",
   "metadata": {},
   "outputs": [
    {
     "data": {
      "text/plain": [
       "primal_residual (generic function with 1 method)"
      ]
     },
     "execution_count": 8,
     "metadata": {},
     "output_type": "execute_result"
    }
   ],
   "source": [
    "function primal_residual(qp::QPData, x, λ, μ)\n",
    "    qp.P*x + qp.q + qp.A'λ + qp.C'μ\n",
    "end"
   ]
  },
  {
   "cell_type": "code",
   "execution_count": 9,
   "id": "5e34391d-eb1b-4f2d-9ed5-2af7c3b7150f",
   "metadata": {},
   "outputs": [
    {
     "data": {
      "text/plain": [
       "dual_residual (generic function with 1 method)"
      ]
     },
     "execution_count": 9,
     "metadata": {},
     "output_type": "execute_result"
    }
   ],
   "source": [
    "function dual_residual(qp::QPData, x, λ, μ)\n",
    "    g = ceq(qp, x)\n",
    "    h = cin(qp, x)\n",
    "    return [g; max.(0, h)]\n",
    "end"
   ]
  },
  {
   "cell_type": "code",
   "execution_count": 10,
   "id": "d77cd37e-5a44-4cba-bbdd-c0dbcdd77d59",
   "metadata": {},
   "outputs": [
    {
     "data": {
      "text/plain": [
       "complimentarity (generic function with 1 method)"
      ]
     },
     "execution_count": 10,
     "metadata": {},
     "output_type": "execute_result"
    }
   ],
   "source": [
    "function complimentarity(qp::QPData, x, λ, μ)\n",
    "    return [min.(0, μ); μ .* cin(qp, x)]\n",
    "end"
   ]
  },
  {
   "cell_type": "code",
   "execution_count": null,
   "id": "fe832c16-e365-4fba-9ac5-b3bd27c31ee8",
   "metadata": {},
   "outputs": [],
   "source": []
  }
 ],
 "metadata": {
  "kernelspec": {
   "display_name": "Julia 1.5.4",
   "language": "julia",
   "name": "julia-1.5"
  },
  "language_info": {
   "file_extension": ".jl",
   "mimetype": "application/julia",
   "name": "julia",
   "version": "1.5.4"
  }
 },
 "nbformat": 4,
 "nbformat_minor": 5
}
