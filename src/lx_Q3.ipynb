{
 "cells": [
  {
   "cell_type": "code",
   "execution_count": 1,
   "id": "3ccf1f7a-d1ae-4180-bcec-18e126d69fdf",
   "metadata": {},
   "outputs": [
    {
     "name": "stderr",
     "output_type": "stream",
     "text": [
      "\u001b[32m\u001b[1m Activating\u001b[22m\u001b[39m environment at `C:\\Users\\Administrator\\Documents\\GitHub\\16-745-hw1\\Project.toml`\n"
     ]
    }
   ],
   "source": [
    "import Pkg; Pkg.activate(joinpath(@__DIR__,\"..\")); Pkg.instantiate();"
   ]
  },
  {
   "cell_type": "code",
   "execution_count": 2,
   "id": "dfeb7f12-922f-4158-97dc-21de647ea990",
   "metadata": {},
   "outputs": [],
   "source": [
    "using Random, LinearAlgebra"
   ]
  },
  {
   "cell_type": "markdown",
   "id": "139d478a-35cb-45cc-b8d8-c4705d8e5484",
   "metadata": {},
   "source": [
    "## 一、定义问题结构和维度信息\n",
    "$$ \\begin{align}\n",
    "    &\\text{minimize}_{x} && \\frac{1}{2} x^T P x + q^T x \\\\\n",
    "    &\\text{subject to} && A x = b \\\\\n",
    "    &&& C x \\leq d \\\\\n",
    "\\end{align} $$"
   ]
  },
  {
   "cell_type": "code",
   "execution_count": 3,
   "id": "94329490-126d-4f28-aaaa-036f1632fef6",
   "metadata": {},
   "outputs": [],
   "source": [
    "struct QPData\n",
    "    P::Matrix{Float64}\n",
    "    q::Vector{Float64}\n",
    "    A::Matrix{Float64}\n",
    "    b::Vector{Float64}\n",
    "    C::Matrix{Float64}\n",
    "    d::Vector{Float64}\n",
    "end"
   ]
  },
  {
   "cell_type": "code",
   "execution_count": 4,
   "id": "a7e6b080-c444-4308-ade7-2414f29745db",
   "metadata": {},
   "outputs": [
    {
     "data": {
      "text/plain": [
       "QPData"
      ]
     },
     "execution_count": 4,
     "metadata": {},
     "output_type": "execute_result"
    }
   ],
   "source": [
    "function QPData(n::Int, m::Int, p::Int)\n",
    "    QPData(zeros(n,n), zeros(n), zeros(m,n), zeros(m), zeros(p,n), zeros(p))\n",
    "end"
   ]
  },
  {
   "cell_type": "code",
   "execution_count": 5,
   "id": "f32398bd-f4c8-483c-92bc-4d149eb184f4",
   "metadata": {},
   "outputs": [
    {
     "data": {
      "text/plain": [
       "num_ineq (generic function with 1 method)"
      ]
     },
     "execution_count": 5,
     "metadata": {},
     "output_type": "execute_result"
    }
   ],
   "source": [
    "num_eq(qp::QPData) = length(qp.b)\n",
    "num_ineq(qp::QPData) = length(qp.d)"
   ]
  },
  {
   "cell_type": "code",
   "execution_count": 6,
   "id": "8be3cb38-cbbf-4b40-ad5b-62343998ba20",
   "metadata": {},
   "outputs": [],
   "source": [
    "Base.size(qp::QPData) = (length(qp.q), num_eq(qp), num_ineq(qp))"
   ]
  },
  {
   "cell_type": "code",
   "execution_count": 7,
   "id": "fcf32fcd-8d28-4b53-a9de-a7c1e23aad53",
   "metadata": {},
   "outputs": [
    {
     "data": {
      "text/plain": [
       "cin (generic function with 1 method)"
      ]
     },
     "execution_count": 7,
     "metadata": {},
     "output_type": "execute_result"
    }
   ],
   "source": [
    "objective(qp::QPData, x) = 0.5 * x'qp.P*x + qp.q'x\n",
    "ceq(qp::QPData, x) = qp.A * x - qp.b\n",
    "cin(qp::QPData, x) = qp.C * x - qp.d"
   ]
  },
  {
   "cell_type": "code",
   "execution_count": 8,
   "id": "b3c9feb8-1d69-4c4d-a1e8-33ea4d43f45a",
   "metadata": {},
   "outputs": [
    {
     "data": {
      "text/plain": [
       "primal_residual (generic function with 1 method)"
      ]
     },
     "execution_count": 8,
     "metadata": {},
     "output_type": "execute_result"
    }
   ],
   "source": [
    "function primal_residual(qp::QPData, x, λ, μ)\n",
    "    qp.P*x + qp.q + qp.A'λ + qp.C'μ\n",
    "end"
   ]
  },
  {
   "cell_type": "code",
   "execution_count": 9,
   "id": "5e34391d-eb1b-4f2d-9ed5-2af7c3b7150f",
   "metadata": {},
   "outputs": [
    {
     "data": {
      "text/plain": [
       "dual_residual (generic function with 1 method)"
      ]
     },
     "execution_count": 9,
     "metadata": {},
     "output_type": "execute_result"
    }
   ],
   "source": [
    "function dual_residual(qp::QPData, x, λ, μ)\n",
    "    g = ceq(qp, x)\n",
    "    h = cin(qp, x)\n",
    "    return [g; max.(0, h)]\n",
    "end"
   ]
  },
  {
   "cell_type": "code",
   "execution_count": 10,
   "id": "d77cd37e-5a44-4cba-bbdd-c0dbcdd77d59",
   "metadata": {},
   "outputs": [
    {
     "data": {
      "text/plain": [
       "complimentarity (generic function with 1 method)"
      ]
     },
     "execution_count": 10,
     "metadata": {},
     "output_type": "execute_result"
    }
   ],
   "source": [
    "function complimentarity(qp::QPData, x, λ, μ)\n",
    "    return [min.(0, μ); μ .* cin(qp, x)]\n",
    "end"
   ]
  },
  {
   "cell_type": "markdown",
   "id": "a48c6c23-81d9-4736-9813-9be2c89cf246",
   "metadata": {},
   "source": [
    "## 二、拉格朗日到增广拉格朗日\n",
    "\n",
    "原问题可以转化为：\n",
    "$$\n",
    "\\min_x \\max_{\\lambda, u \\ge 0} \\quad \\frac{1}{2} x^T P x + q^T x + \\lambda^T (Ax-b) + u^T (Cx - d) \\qquad \\text{问题1}\n",
    "$$\n",
    "\n",
    "仔细看内部问题\n",
    "$$\n",
    "\\max_{\\lambda, u \\ge 0} \\quad \\frac{1}{2} x^T P x + q^T x + \\lambda^T (Ax-b) + u^T (Cx - d) \\qquad \\text{问题2}\n",
    "$$\n",
    "\n",
    "- 如果 $Cx-d < 0$，那么$u$只能为0，所以问题2变成了\n",
    "$$\\max_{\\lambda, u = 0} \\quad \\frac{1}{2} x^T P x + q^T x + \\lambda^T (Ax-b) \\qquad  \\text{问题2.1} $$ \n",
    "- 如果 $Cx-d \\ge 0$，问题2变成了\n",
    "$$\\max_{\\lambda, u > 0} \\quad \\frac{1}{2} x^T P x + q^T x + \\lambda^T (Ax-b) + u^T (Cx - d) \\qquad  \\text{问题2.2} $$\n",
    "\n",
    "如果$(Ax-b) \\neq 0$或者$(Cx - d)> 0$，那么内部问题就是无穷的，这就迫使约束满足了，所以问题1和原问题是等价的。\n",
    "\n",
    "### 分类-问题2.2\n",
    "\n",
    "那么如何求解问题2，由于有一个$\\max$操作，非光滑的，不好直接求解。所以用近端点法，就是给一个先验值，然后使得不能离太远，这样就会形成一个关于$\\lambda, u$的二阶最大化问题\n",
    "\n",
    "$$\n",
    "\\max_{\\lambda, u \\ge 0} \\quad \\frac{1}{2} x^T P x + q^T x + \\lambda^T (Ax-b) - \\frac{1}{2 \\rho} \\| \\lambda - \\bar{\\lambda} \\|^2 + u^T (Cx - d) - \\frac{1}{2 \\rho} \\| u - \\bar{u} \\|^2\\qquad \\text{问题3}\n",
    "$$\n",
    "\n",
    "问题3解的条件是：\n",
    "$$\n",
    "\\lambda = \\bar{\\lambda} + \\rho (Ax - b) \\quad \\text{条件1} \\\\ \n",
    "u = \\max(\\bar{u} + \\rho (Cx -d ), 0 )  \\quad \\text{条件2}\n",
    "$$\n",
    "由于$Cx-d \\ge 0, \\rho>0$，如果保持$\\bar{u} \\ge 0$那么条件2 可以写为\n",
    "$$\n",
    "u = \\bar{u} + \\rho (Cx -d )\n",
    "$$\n",
    "\n",
    "把条件1和2带回问题3，使得问题1变为：\n",
    "$$\n",
    "\\min_x \\text{LA}_{\\rho, \\bar{\\lambda}, \\bar{u} }(x) = \\quad \\frac{1}{2} x^T P x + q^T x + \\bar{\\lambda}^T (Ax-b)+\\frac{\\rho}{2} \\| Ax - b \\|^2 + \\bar{u}^T (Cx-d)+\\frac{\\rho}{2} \\| Cx - d \\|^2 \n",
    "$$\n",
    "梯度就是：\n",
    "$$\n",
    "Px + q + A^T \\bar{\\lambda} + \\rho A^T * (Ax-b) + C^T \\bar{u} + \\rho C^T * (Cx-d)\n",
    "$$\n",
    "Hess是\n",
    "$$\n",
    "P + \\rho A^T*A + \\rho C^T*C\n",
    "$$\n",
    "\n",
    "### 分类-问题2.1\n",
    "\n",
    "这个只要把所有关于不等式的都为0就可以了\n",
    "\n",
    "### 更新$\\lambda, u, \\rho$\n",
    "\n",
    "整体流程：\n",
    "\n",
    "1. 求解无约束问题$\\text{LA}_{\\lambda, u, \\rho}$\n",
    "2. 按照条件2更新$\\lambda, u$\n",
    "3. 更新$\\rho = \\alpha \\rho$"
   ]
  },
  {
   "cell_type": "code",
   "execution_count": 11,
   "id": "f6801b7d-0870-4def-89a2-639a9018d1ac",
   "metadata": {},
   "outputs": [
    {
     "data": {
      "text/plain": [
       "algrad (generic function with 1 method)"
      ]
     },
     "execution_count": 11,
     "metadata": {},
     "output_type": "execute_result"
    }
   ],
   "source": [
    "function algrad(qp::QPData, x, λ, μ,  ρ)\n",
    "    # TODO: compute the gradient of the augmented Lagrangian\n",
    "    # HINT: be sure to compute the active constraints!\n",
    "    grad = zero(x)\n",
    "    # part1 of the gradient\n",
    "    grad = qp.P * x + qp.q + qp.A' * λ + ρ * qp.A' * ceq(qp, x)\n",
    "    # carefully deal with inequality constraint\n",
    "    numineq = num_ineq(qp::QPData)\n",
    "    h = cin(qp::QPData, x)\n",
    "    for i=1:numineq\n",
    "        if h[i] > 0 || μ[i] > 0\n",
    "            grad = grad + qp.C[i:i,:]' * μ[i] + ρ * qp.C[i:i,:]' * h[i]\n",
    "        end\n",
    "    end\n",
    "    return grad\n",
    "end"
   ]
  },
  {
   "cell_type": "code",
   "execution_count": 12,
   "id": "00cae721-f3a0-4403-9cc3-6461ce2b3d35",
   "metadata": {},
   "outputs": [
    {
     "data": {
      "text/plain": [
       "alhess (generic function with 1 method)"
      ]
     },
     "execution_count": 12,
     "metadata": {},
     "output_type": "execute_result"
    }
   ],
   "source": [
    "function alhess(qp::QPData, x, λ, μ,  ρ)\n",
    "    # TODO: compute the Hessian of the augmented Lagrangian\n",
    "    n = size(x)\n",
    "#     hess = Matrix(I,n,n)\n",
    "    hess = qp.P + ρ * qp.A' * qp.A\n",
    "    # carefully deal with inequality constraint\n",
    "    numineq = num_ineq(qp::QPData)\n",
    "    h = cin(qp::QPData, x)\n",
    "    for i=1:numineq\n",
    "        if h[i] > 0 || μ[i] > 0\n",
    "            hess = hess  + ρ * qp.C[i:i,:]' * qp.C[i:i,:]\n",
    "        end\n",
    "    end\n",
    "    return hess\n",
    "end"
   ]
  },
  {
   "cell_type": "code",
   "execution_count": 13,
   "id": "4574eb7b-f857-4ea8-9327-f54048583404",
   "metadata": {},
   "outputs": [
    {
     "data": {
      "text/plain": [
       "dual_update (generic function with 1 method)"
      ]
     },
     "execution_count": 13,
     "metadata": {},
     "output_type": "execute_result"
    }
   ],
   "source": [
    "function dual_update(qp, x, λ, μ, ρ)\n",
    "    # TODO: compute the new values for λ and μ\n",
    "    λnext = copy(λ)\n",
    "    μnext = copy(μ)\n",
    "    g = ceq(qp, x)\n",
    "    h = cin(qp, x)\n",
    "    λnext = λnext + ρ*g\n",
    "    μnext = μnext + ρ*h\n",
    "    # Keep the dual variables for the inequality constraints in the nonnegative orthant\n",
    "    for i = 1:length(μ)\n",
    "        μnext[i] = max(0, μnext[i])\n",
    "    end\n",
    "    return λnext, μnext\n",
    "end"
   ]
  },
  {
   "cell_type": "code",
   "execution_count": 14,
   "id": "0a18c4d2-d4a6-4701-b09b-c7b804b4f6b5",
   "metadata": {},
   "outputs": [
    {
     "data": {
      "text/plain": [
       "newton_solve (generic function with 1 method)"
      ]
     },
     "execution_count": 14,
     "metadata": {},
     "output_type": "execute_result"
    }
   ],
   "source": [
    "function newton_solve(qp::QPData, x, λ, μ, ρ; eps_inner=1e-6)\n",
    "    for i = 1:10\n",
    "        # Compute the gradient and the Hessian of the augmented Lagrangian\n",
    "        r = algrad(qp::QPData, x, λ, μ, ρ)\n",
    "        if norm(r) < eps_inner\n",
    "            return x\n",
    "        end\n",
    "        H = alhess(qp, x, λ, μ, ρ)\n",
    "        Δx = -H\\r\n",
    "        # TODO: Compute the Newton step\n",
    "        #       A line search will help with convergence, but shouldn't be necessary for \n",
    "        #       our problem since we're providing a good guess each time\n",
    "        #line search\n",
    "        alpha = 1\n",
    "        r = algrad(qp, x, λ, μ, ρ)\n",
    "        r2 = algrad(qp, x+alpha*Δx, λ, μ, ρ)\n",
    "        while norm(r2) > norm(r)\n",
    "            alpha = 0.8 * alpha\n",
    "            r2 = algrad(qp, x+alpha*Δx, λ, μ, ρ)\n",
    "        end\n",
    "        x = x + alpha*Δx \n",
    "    end\n",
    "    @warn \"Inner solve max iterations\"\n",
    "    return x\n",
    "end"
   ]
  },
  {
   "cell_type": "code",
   "execution_count": 15,
   "id": "b076d4ac-86a7-4a0c-8f1e-80c72a45f267",
   "metadata": {},
   "outputs": [
    {
     "data": {
      "text/plain": [
       "solve_qp (generic function with 3 methods)"
      ]
     },
     "execution_count": 15,
     "metadata": {},
     "output_type": "execute_result"
    }
   ],
   "source": [
    "function solve_qp(qp::QPData, x0, λ0=zeros(num_eq(qp)), μ0=zeros(num_ineq(qp)); \n",
    "                    penalty_initial=10.0, \n",
    "                    penalty_scaling=10.0, \n",
    "                    eps_primal=1e-6,\n",
    "                    eps_inner=1e-6,\n",
    "                    max_iters=20\n",
    "                )\n",
    "    x = copy(x0)\n",
    "    λ = copy(λ0)\n",
    "    μ = copy(μ0)\n",
    "    ρ = penalty_initial\n",
    "    ϕ = penalty_scaling\n",
    "    # Start outer loop\n",
    "    for i = 1:max_iters\n",
    "        # Solve the inner, unconstrained problem\n",
    "        x = newton_solve(qp, x, λ, μ, ρ, eps_inner=eps_inner)\n",
    "        \n",
    "        # Use the new solution to update the dual variables\n",
    "        λ, μ = dual_update(qp, x, λ, μ, ρ)\n",
    "        \n",
    "        # TODO: update the penalty parameter\n",
    "        ρ = ϕ * ρ\n",
    "        if norm(dual_residual(qp, x, λ, μ)) < eps_primal\n",
    "            # Return the optimized variables\n",
    "            return x, λ, μ\n",
    "        end        \n",
    "    end\n",
    "    \n",
    "    @warn \"Outer loop max iterations\"\n",
    "    return x, λ, μ\n",
    "end"
   ]
  },
  {
   "cell_type": "code",
   "execution_count": 20,
   "id": "281b5bad-34da-403b-8053-0472686da837",
   "metadata": {},
   "outputs": [
    {
     "name": "stdout",
     "output_type": "stream",
     "text": [
      "  103.400 μs (1630 allocations: 309.38 KiB)\n",
      "  14.399 μs (10 allocations: 944 bytes)\n"
     ]
    },
    {
     "data": {
      "text/plain": [
       "\u001b[32m\u001b[1mTest Passed\u001b[22m\u001b[39m"
      ]
     },
     "execution_count": 20,
     "metadata": {},
     "output_type": "execute_result"
    }
   ],
   "source": [
    "using Test, Random\n",
    "using BenchmarkTools\n",
    "Random.seed!(1)\n",
    "# Setting up and solving a random QP\n",
    "n,m,p = 10,0,15 \n",
    "qp = QPData(n,m,p)\n",
    "P = rand(n,n)\n",
    "qp.P .= P'P   # make it P.S.D\n",
    "qp.q .= randn(n)\n",
    "qp.A .= randn(m,n)\n",
    "qp.b .= randn(m)\n",
    "qp.C .= randn(p,n)\n",
    "qp.d .= randn(p)\n",
    "\n",
    "# Initial guess\n",
    "x = randn(n)\n",
    "\n",
    "# Solve\n",
    "@btime xstar, λstar, μstar = solve_qp(qp, x)\n",
    "# Check optimality conditions\n",
    "@test norm(primal_residual(qp, xstar, λstar, μstar)) < 1e-3\n",
    "@test norm(dual_residual(qp, xstar, λstar, μstar)) < 1e-6\n",
    "@test norm(complimentarity(qp, xstar, λstar, μstar)) < 1e-3\n",
    "\n",
    "# Compare with OSQP\n",
    "using OSQP, SparseArrays\n",
    "model = OSQP.Model()\n",
    "OSQP.setup!(model, P=sparse(qp.P), q=qp.q, A=sparse([qp.A; qp.C]), l=[qp.b; fill(-Inf,p)], u=[qp.b; qp.d],\n",
    "    eps_abs=1e-6, eps_rel=1e-6,verbose=0)\n",
    "@btime res = OSQP.solve!(model)\n",
    "@test norm(res.x - xstar) < 1e-3\n",
    "@test norm(res.y - [λstar; μstar]) < 1e-3"
   ]
  },
  {
   "cell_type": "code",
   "execution_count": 21,
   "id": "7ae1c970-0dd7-4917-a833-d5b2b44c2ba5",
   "metadata": {},
   "outputs": [
    {
     "data": {
      "text/plain": [
       "build_qp (generic function with 1 method)"
      ]
     },
     "execution_count": 21,
     "metadata": {},
     "output_type": "execute_result"
    }
   ],
   "source": [
    "function build_qp(q,v; mass=1, h=0.01)\n",
    "    # TODO: finish the function\n",
    "    \n",
    "    P = diagm([mass,mass])\n",
    "    qq = diagm([mass,mass])*([0;h*9.81] - v)\n",
    "    A = Matrix{Float64}(undef,0,2)\n",
    "    b = Vector{Float64}(undef,0)\n",
    "    J = [0 1]\n",
    "    C = -J .* h\n",
    "    d = J*q\n",
    "    # Return as a QPData type\n",
    "    QPData(P,qq,A,b,C,d)\n",
    "end"
   ]
  },
  {
   "cell_type": "code",
   "execution_count": 22,
   "id": "6d946fb2-dc55-4127-ba70-e8134ba5d986",
   "metadata": {},
   "outputs": [
    {
     "data": {
      "text/plain": [
       "simulate_brick (generic function with 3 methods)"
      ]
     },
     "execution_count": 22,
     "metadata": {},
     "output_type": "execute_result"
    }
   ],
   "source": [
    "function simulate_brick(q0=[0,1.], v0=[1,0.]; h=0.01, T=3.0, m=1.0)\n",
    "    times = range(0, T, step=h)\n",
    "    qs = [zero(q0) for t in times]\n",
    "    vs = [zero(v0) for t in times]\n",
    "    qs[1] .= q0\n",
    "    vs[1] .= v0\n",
    "    \n",
    "    # TODO: Simulate the brick by solving the QP\n",
    "    #  TIP: remember to update your QP after each step\n",
    "    for i in 1:size(times,1)-1\n",
    "        qp = build_qp(qs[i],vs[i]; mass=m,h=h)\n",
    "        xstar, λstar, μstar = solve_qp(qp, vs[i])\n",
    "        vs[i+1] = [xstar[1],xstar[2]]\n",
    "        qs[i+1] = qs[i] + h*vs[i+1]\n",
    "    end\n",
    "    \n",
    "    # Return the state and velocity trajectories\n",
    "    return qs, vs\n",
    "end"
   ]
  },
  {
   "cell_type": "code",
   "execution_count": 23,
   "id": "17525250-da5a-4dd7-a7f9-50cbe375bf4d",
   "metadata": {},
   "outputs": [
    {
     "data": {
      "text/plain": [
       "simulate_brick_osqp (generic function with 3 methods)"
      ]
     },
     "execution_count": 23,
     "metadata": {},
     "output_type": "execute_result"
    }
   ],
   "source": [
    "function simulate_brick_osqp(q0=[0,1.], v0=[1,0.]; h=0.01, T=3.0, m=1.0)\n",
    "    times = range(0, T, step=h)\n",
    "    qs = [zero(q0) for t in times]\n",
    "    vs = [zero(v0) for t in times]\n",
    "    qs[1] .= q0\n",
    "    vs[1] .= v0\n",
    "    \n",
    "    # TODO: Simulate the brick by solving the QP\n",
    "    #  TIP: remember to update your QP after each step\n",
    "    model = OSQP.Model()\n",
    "    for i in 1:size(times,1)-1\n",
    "        qp = build_qp(qs[i],vs[i]; mass=m,h=h)\n",
    "        # xstar, λstar, μstar = solve_qp(qp, vs[i])\n",
    "        OSQP.setup!(model, P=sparse(qp.P), q=qp.q, A=sparse([qp.A; qp.C]), l=[qp.b; fill(-Inf,size(qp.d,1))], u=[qp.b; qp.d],\n",
    "            eps_abs=1e-6, eps_rel=1e-6, verbose=0)\n",
    "        res = OSQP.solve!(model)\n",
    "        vs[i+1] = res.x\n",
    "        qs[i+1] = qs[i] + h*vs[i+1]\n",
    "    end\n",
    "    \n",
    "    # Return the state and velocity trajectories\n",
    "    return qs, vs\n",
    "end"
   ]
  },
  {
   "cell_type": "code",
   "execution_count": 25,
   "id": "69037d76-5b1f-4b1d-ba13-820b794dcc5d",
   "metadata": {},
   "outputs": [
    {
     "name": "stderr",
     "output_type": "stream",
     "text": [
      "┌ Info: MeshCat server started. You can open the visualizer by visiting the following URL in your browser:\n",
      "│ http://localhost:8701\n",
      "└ @ MeshCat C:\\Users\\Administrator\\.julia\\packages\\MeshCat\\X2AUA\\src\\visualizer.jl:73\n"
     ]
    }
   ],
   "source": [
    "using MeshCat\n",
    "using GeometryTypes, Colors, CoordinateTransformations\n",
    "vis = Visualizer()\n",
    "setobject!(vis[\"brick\"], HyperRectangle(Vec(0,0,0f0), 0.5*Vec(2,1,1f0)), MeshPhongMaterial(color=colorant\"firebrick\"))\n",
    "render(vis);"
   ]
  },
  {
   "cell_type": "code",
   "execution_count": 27,
   "id": "13096474-d3c0-45f1-98e5-8a1f58e5261c",
   "metadata": {},
   "outputs": [],
   "source": [
    "function show_sim(vis, qs, h)\n",
    "    fps = Int(1/h)\n",
    "    anim = MeshCat.Animation(fps)\n",
    "    for (i,q) in enumerate(qs)\n",
    "        atframe(anim, i) do\n",
    "            settransform!(vis[\"brick\"], Translation(q[1],0,q[2]))\n",
    "        end\n",
    "    end\n",
    "    setanimation!(vis, anim)\n",
    "end\n",
    "show_sim(vis, h::Real) = show_sim(vis, simulate_brick(h=h)[1], h)\n",
    "show_sim(vis, 0.01);"
   ]
  },
  {
   "cell_type": "markdown",
   "id": "e6e39d4d-b2f3-4b59-a862-61335f6accc2",
   "metadata": {},
   "source": [
    "You can earn extra credit by making your QP solver fast. Points will be given relative to the speed of OSQP, a state-of-the-art QP solver. There will be four different levels:\n",
    "\n",
    "1. Less than 0.5x the time of OSQP (2x slower that OSQP) (2 pts)\n",
    "2. Faster than OSQP (5 pts)\n",
    "3. 2x faster than OSQP (8 pts)\n",
    "4. Faster than Brian's solution (about 5x faster than OSQP) (10 pts)\n",
    "\n",
    "It will be timed on the brick simulator, see the code below for the command we will use to obtain the timing results. Tips:\n",
    "\n",
    "- Check out the StaticArrays package\n",
    "- Consider making your own solver type\n",
    "- Avoid allocating new memory\n",
    "- Use the BenchmarkTools package to check the performance of individual pieces\n",
    "- Check out the Julia Performance Tips\n",
    "- Write a version of your simulation code that uses OSQP to compare performance"
   ]
  },
  {
   "cell_type": "code",
   "execution_count": 31,
   "id": "447330b4-5b79-4d08-9297-a3b0617e2f41",
   "metadata": {},
   "outputs": [
    {
     "name": "stdout",
     "output_type": "stream",
     "text": [
      "  8.525 ms (175128 allocations: 14.70 MiB)\n"
     ]
    }
   ],
   "source": [
    "@btime simulate_brick();"
   ]
  },
  {
   "cell_type": "code",
   "execution_count": 32,
   "id": "fcdab031-e789-4ea2-a078-9bd0ddacfd50",
   "metadata": {},
   "outputs": [
    {
     "name": "stdout",
     "output_type": "stream",
     "text": [
      "  4.523 ms (29117 allocations: 2.90 MiB)\n"
     ]
    }
   ],
   "source": [
    "@btime simulate_brick_osqp();"
   ]
  },
  {
   "cell_type": "code",
   "execution_count": null,
   "id": "773ba4e2-5423-4037-b686-388eb882eeda",
   "metadata": {},
   "outputs": [],
   "source": []
  }
 ],
 "metadata": {
  "kernelspec": {
   "display_name": "Julia 1.5.4",
   "language": "julia",
   "name": "julia-1.5"
  },
  "language_info": {
   "file_extension": ".jl",
   "mimetype": "application/julia",
   "name": "julia",
   "version": "1.5.4"
  }
 },
 "nbformat": 4,
 "nbformat_minor": 5
}
